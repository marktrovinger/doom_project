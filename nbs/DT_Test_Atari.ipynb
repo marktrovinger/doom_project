{
  "nbformat": 4,
  "nbformat_minor": 0,
  "metadata": {
    "colab": {
      "provenance": [],
      "machine_shape": "hm",
      "toc_visible": true,
      "mount_file_id": "1GbbafEC4wh5Nzs_B4LJOFKOQ76wRp5jE",
      "authorship_tag": "ABX9TyOWEBvwsjPLXlm7uSzSd+Wp",
      "include_colab_link": true
    },
    "kernelspec": {
      "name": "python3",
      "display_name": "Python 3"
    },
    "language_info": {
      "name": "python"
    },
    "gpuClass": "standard",
    "accelerator": "GPU"
  },
  "cells": [
    {
      "cell_type": "markdown",
      "metadata": {
        "id": "view-in-github",
        "colab_type": "text"
      },
      "source": [
        "<a href=\"https://colab.research.google.com/github/marktrovinger/doom_project/blob/master/DT_Test_Atari.ipynb\" target=\"_parent\"><img src=\"https://colab.research.google.com/assets/colab-badge.svg\" alt=\"Open In Colab\"/></a>"
      ]
    },
    {
      "cell_type": "markdown",
      "source": [
        "Purpose: \n",
        "\n",
        "Testing upload of files manually generated using cleanrl and SB3 replay buffer, then converted to dopamine format using circular replay buffer. \n",
        "\n",
        "Need to create the directory structure as DT expects it so just check that. I modified the code so I don't have to pass in the game name but this should also be in there... \n",
        "\n",
        "\n",
        "```\n",
        "/content/dqn_replay/1/replay_logs/\n",
        "```\n",
        "\n"
      ],
      "metadata": {
        "id": "CPen2fEpdDM8"
      }
    },
    {
      "cell_type": "code",
      "execution_count": 1,
      "metadata": {
        "id": "1cciUgI6TWb3"
      },
      "outputs": [],
      "source": [
        "!mkdir dqn_replay/1/replay_logs"
      ]
    },
    {
      "cell_type": "code",
      "source": [
        "!cp -r '/content/drive/MyDrive/Colab Notebooks/DT_dataset/breakout/' /content/dqn_replay/1/replay_logs/"
      ],
      "metadata": {
        "id": "AovE2gxvbDBG"
      },
      "execution_count": 9,
      "outputs": []
    },
    {
      "cell_type": "markdown",
      "source": [
        "Install DT code: \n",
        "\n",
        "\n",
        "Get Dopamine - need latest version!"
      ],
      "metadata": {
        "id": "wV0tPM5wmm3S"
      }
    },
    {
      "cell_type": "code",
      "source": [
        "%cd /content/"
      ],
      "metadata": {
        "colab": {
          "base_uri": "https://localhost:8080/"
        },
        "id": "6f6vqRaxmMKE",
        "outputId": "3a154a02-c0c0-4a9a-f334-2f7d322e4a64"
      },
      "execution_count": 10,
      "outputs": [
        {
          "output_type": "stream",
          "name": "stdout",
          "text": [
            "/content\n"
          ]
        }
      ]
    },
    {
      "cell_type": "code",
      "source": [
        "!git clone https://github.com/google/dopamine"
      ],
      "metadata": {
        "id": "ONZkAfdocaGO",
        "colab": {
          "base_uri": "https://localhost:8080/"
        },
        "outputId": "2345f652-50dd-4565-99e9-1853d5fc548d"
      },
      "execution_count": 11,
      "outputs": [
        {
          "output_type": "stream",
          "name": "stdout",
          "text": [
            "Cloning into 'dopamine'...\n",
            "remote: Enumerating objects: 3856, done.\u001b[K\n",
            "remote: Counting objects: 100% (167/167), done.\u001b[K\n",
            "remote: Compressing objects: 100% (81/81), done.\u001b[K\n",
            "remote: Total 3856 (delta 97), reused 130 (delta 83), pack-reused 3689\u001b[K\n",
            "Receiving objects: 100% (3856/3856), 21.03 MiB | 33.86 MiB/s, done.\n",
            "Resolving deltas: 100% (2577/2577), done.\n"
          ]
        }
      ]
    },
    {
      "cell_type": "code",
      "source": [
        "!pip install -r dopamine/requirements.txt"
      ],
      "metadata": {
        "id": "t0q_Unuuce5t",
        "colab": {
          "base_uri": "https://localhost:8080/"
        },
        "outputId": "884bf883-c8ab-47e4-ae39-bfefe6b6fde1"
      },
      "execution_count": 12,
      "outputs": [
        {
          "output_type": "stream",
          "name": "stdout",
          "text": [
            "Looking in indexes: https://pypi.org/simple, https://us-python.pkg.dev/colab-wheels/public/simple/\n",
            "Requirement already satisfied: absl-py>=0.9.0 in /usr/local/lib/python3.8/dist-packages (from -r dopamine/requirements.txt (line 1)) (1.4.0)\n",
            "Requirement already satisfied: astunparse>=1.6.3 in /usr/local/lib/python3.8/dist-packages (from -r dopamine/requirements.txt (line 2)) (1.6.3)\n",
            "Requirement already satisfied: cachetools>=4.1.1 in /usr/local/lib/python3.8/dist-packages (from -r dopamine/requirements.txt (line 3)) (5.3.0)\n",
            "Requirement already satisfied: certifi>=2020.6.20 in /usr/local/lib/python3.8/dist-packages (from -r dopamine/requirements.txt (line 4)) (2022.12.7)\n",
            "Requirement already satisfied: chardet>=3.0.4 in /usr/local/lib/python3.8/dist-packages (from -r dopamine/requirements.txt (line 5)) (4.0.0)\n",
            "Requirement already satisfied: cloudpickle>=1.3.0 in /usr/local/lib/python3.8/dist-packages (from -r dopamine/requirements.txt (line 6)) (2.2.1)\n",
            "Requirement already satisfied: cycler>=0.10.0 in /usr/local/lib/python3.8/dist-packages (from -r dopamine/requirements.txt (line 7)) (0.11.0)\n",
            "Collecting flax>=0.5.3\n",
            "  Downloading flax-0.6.5-py3-none-any.whl (209 kB)\n",
            "\u001b[2K     \u001b[90m━━━━━━━━━━━━━━━━━━━━━━━━━━━━━━━━━━━━━━━\u001b[0m \u001b[32m209.2/209.2 KB\u001b[0m \u001b[31m7.7 MB/s\u001b[0m eta \u001b[36m0:00:00\u001b[0m\n",
            "\u001b[?25hCollecting future>=0.18.2\n",
            "  Downloading future-0.18.3.tar.gz (840 kB)\n",
            "\u001b[2K     \u001b[90m━━━━━━━━━━━━━━━━━━━━━━━━━━━━━━━━━━━━━━\u001b[0m \u001b[32m840.9/840.9 KB\u001b[0m \u001b[31m41.7 MB/s\u001b[0m eta \u001b[36m0:00:00\u001b[0m\n",
            "\u001b[?25h  Preparing metadata (setup.py) ... \u001b[?25l\u001b[?25hdone\n",
            "Requirement already satisfied: gast>=0.3.3 in /usr/local/lib/python3.8/dist-packages (from -r dopamine/requirements.txt (line 10)) (0.4.0)\n",
            "Requirement already satisfied: gin-config>=0.3.0 in /usr/local/lib/python3.8/dist-packages (from -r dopamine/requirements.txt (line 11)) (0.5.0)\n",
            "Requirement already satisfied: google-auth>=1.19.2 in /usr/local/lib/python3.8/dist-packages (from -r dopamine/requirements.txt (line 12)) (2.16.0)\n",
            "Requirement already satisfied: google-auth-oauthlib>=0.4.1 in /usr/local/lib/python3.8/dist-packages (from -r dopamine/requirements.txt (line 13)) (0.4.6)\n",
            "Requirement already satisfied: google-pasta>=0.2.0 in /usr/local/lib/python3.8/dist-packages (from -r dopamine/requirements.txt (line 14)) (0.2.0)\n",
            "Requirement already satisfied: grpcio>=1.30.0 in /usr/local/lib/python3.8/dist-packages (from -r dopamine/requirements.txt (line 15)) (1.51.1)\n",
            "Requirement already satisfied: gym[accept-rom-license,atari]<=0.25.2 in /usr/local/lib/python3.8/dist-packages (from -r dopamine/requirements.txt (line 16)) (0.25.2)\n",
            "Requirement already satisfied: h5py>=2.10.0 in /usr/local/lib/python3.8/dist-packages (from -r dopamine/requirements.txt (line 17)) (3.1.0)\n",
            "Requirement already satisfied: idna>=2.10 in /usr/local/lib/python3.8/dist-packages (from -r dopamine/requirements.txt (line 18)) (2.10)\n",
            "Requirement already satisfied: jax>=0.3.16 in /usr/local/lib/python3.8/dist-packages (from -r dopamine/requirements.txt (line 19)) (0.3.25)\n",
            "Requirement already satisfied: jaxlib>=0.3.15 in /usr/local/lib/python3.8/dist-packages (from -r dopamine/requirements.txt (line 20)) (0.3.25+cuda11.cudnn805)\n",
            "Requirement already satisfied: Keras-Preprocessing>=1.1.2 in /usr/local/lib/python3.8/dist-packages (from -r dopamine/requirements.txt (line 21)) (1.1.2)\n",
            "Requirement already satisfied: kiwisolver>=1.2.0 in /usr/local/lib/python3.8/dist-packages (from -r dopamine/requirements.txt (line 22)) (1.4.4)\n",
            "Requirement already satisfied: Markdown>=3.2.2 in /usr/local/lib/python3.8/dist-packages (from -r dopamine/requirements.txt (line 23)) (3.4.1)\n",
            "Collecting matplotlib>=3.3.0\n",
            "  Downloading matplotlib-3.6.3-cp38-cp38-manylinux_2_12_x86_64.manylinux2010_x86_64.whl (9.4 MB)\n",
            "\u001b[2K     \u001b[90m━━━━━━━━━━━━━━━━━━━━━━━━━━━━━━━━━━━━━━━━\u001b[0m \u001b[32m9.4/9.4 MB\u001b[0m \u001b[31m111.6 MB/s\u001b[0m eta \u001b[36m0:00:00\u001b[0m\n",
            "\u001b[?25hRequirement already satisfied: msgpack>=1.0.0 in /usr/local/lib/python3.8/dist-packages (from -r dopamine/requirements.txt (line 25)) (1.0.4)\n",
            "Requirement already satisfied: numpy>=1.18.5 in /usr/local/lib/python3.8/dist-packages (from -r dopamine/requirements.txt (line 26)) (1.21.6)\n",
            "Requirement already satisfied: oauthlib>=3.1.0 in /usr/local/lib/python3.8/dist-packages (from -r dopamine/requirements.txt (line 27)) (3.2.2)\n",
            "Requirement already satisfied: opencv-python>=4.3.0.36 in /usr/local/lib/python3.8/dist-packages (from -r dopamine/requirements.txt (line 28)) (4.6.0.66)\n",
            "Requirement already satisfied: opt-einsum>=3.3.0 in /usr/local/lib/python3.8/dist-packages (from -r dopamine/requirements.txt (line 29)) (3.3.0)\n",
            "Requirement already satisfied: pandas>=1.0.5 in /usr/local/lib/python3.8/dist-packages (from -r dopamine/requirements.txt (line 30)) (1.3.5)\n",
            "Collecting Pillow>=7.2.0\n",
            "  Downloading Pillow-9.4.0-cp38-cp38-manylinux_2_28_x86_64.whl (3.4 MB)\n",
            "\u001b[2K     \u001b[90m━━━━━━━━━━━━━━━━━━━━━━━━━━━━━━━━━━━━━━━━\u001b[0m \u001b[32m3.4/3.4 MB\u001b[0m \u001b[31m93.8 MB/s\u001b[0m eta \u001b[36m0:00:00\u001b[0m\n",
            "\u001b[?25hRequirement already satisfied: protobuf>=3.12.2 in /usr/local/lib/python3.8/dist-packages (from -r dopamine/requirements.txt (line 32)) (3.19.6)\n",
            "Requirement already satisfied: pyasn1>=0.4.8 in /usr/local/lib/python3.8/dist-packages (from -r dopamine/requirements.txt (line 33)) (0.4.8)\n",
            "Requirement already satisfied: pyasn1-modules>=0.2.8 in /usr/local/lib/python3.8/dist-packages (from -r dopamine/requirements.txt (line 34)) (0.2.8)\n",
            "Collecting pygame>=1.9.6\n",
            "  Downloading pygame-2.1.2-cp38-cp38-manylinux_2_17_x86_64.manylinux2014_x86_64.whl (21.8 MB)\n",
            "\u001b[2K     \u001b[90m━━━━━━━━━━━━━━━━━━━━━━━━━━━━━━━━━━━━━━━━\u001b[0m \u001b[32m21.8/21.8 MB\u001b[0m \u001b[31m71.8 MB/s\u001b[0m eta \u001b[36m0:00:00\u001b[0m\n",
            "\u001b[?25hCollecting pyglet>=1.5.0\n",
            "  Downloading pyglet-2.0.4-py3-none-any.whl (831 kB)\n",
            "\u001b[2K     \u001b[90m━━━━━━━━━━━━━━━━━━━━━━━━━━━━━━━━━━━━━━\u001b[0m \u001b[32m831.0/831.0 KB\u001b[0m \u001b[31m59.1 MB/s\u001b[0m eta \u001b[36m0:00:00\u001b[0m\n",
            "\u001b[?25hRequirement already satisfied: pyparsing>=2.4.7 in /usr/local/lib/python3.8/dist-packages (from -r dopamine/requirements.txt (line 37)) (3.0.9)\n",
            "Requirement already satisfied: python-dateutil>=2.8.1 in /usr/local/lib/python3.8/dist-packages (from -r dopamine/requirements.txt (line 38)) (2.8.2)\n",
            "Requirement already satisfied: pytz>=2020.1 in /usr/local/lib/python3.8/dist-packages (from -r dopamine/requirements.txt (line 39)) (2022.7.1)\n",
            "Requirement already satisfied: requests>=2.24.0 in /usr/local/lib/python3.8/dist-packages (from -r dopamine/requirements.txt (line 40)) (2.25.1)\n",
            "Requirement already satisfied: requests-oauthlib>=1.3.0 in /usr/local/lib/python3.8/dist-packages (from -r dopamine/requirements.txt (line 41)) (1.3.1)\n",
            "Requirement already satisfied: rsa>=4.6 in /usr/local/lib/python3.8/dist-packages (from -r dopamine/requirements.txt (line 42)) (4.9)\n",
            "Requirement already satisfied: scipy>=1.4.1 in /usr/local/lib/python3.8/dist-packages (from -r dopamine/requirements.txt (line 43)) (1.7.3)\n",
            "Requirement already satisfied: six>=1.15.0 in /usr/local/lib/python3.8/dist-packages (from -r dopamine/requirements.txt (line 44)) (1.15.0)\n",
            "Requirement already satisfied: setuptools>=49.2.01 in /usr/local/lib/python3.8/dist-packages (from -r dopamine/requirements.txt (line 45)) (57.4.0)\n",
            "Requirement already satisfied: tensorboard in /usr/local/lib/python3.8/dist-packages (from -r dopamine/requirements.txt (line 46)) (2.9.1)\n",
            "Requirement already satisfied: tensorboard-plugin-wit in /usr/local/lib/python3.8/dist-packages (from -r dopamine/requirements.txt (line 47)) (1.8.1)\n",
            "Requirement already satisfied: tensorflow in /usr/local/lib/python3.8/dist-packages (from -r dopamine/requirements.txt (line 48)) (2.9.2)\n",
            "Requirement already satisfied: tensorflow-estimator in /usr/local/lib/python3.8/dist-packages (from -r dopamine/requirements.txt (line 49)) (2.9.0)\n",
            "Requirement already satisfied: tensorflow-probability>=0.13.0 in /usr/local/lib/python3.8/dist-packages (from -r dopamine/requirements.txt (line 50)) (0.17.0)\n",
            "Requirement already satisfied: termcolor>=1.1.0 in /usr/local/lib/python3.8/dist-packages (from -r dopamine/requirements.txt (line 51)) (2.2.0)\n",
            "Collecting tf-slim>=1.1.0\n",
            "  Downloading tf_slim-1.1.0-py2.py3-none-any.whl (352 kB)\n",
            "\u001b[2K     \u001b[90m━━━━━━━━━━━━━━━━━━━━━━━━━━━━━━━━━━━━━━\u001b[0m \u001b[32m352.1/352.1 KB\u001b[0m \u001b[31m33.9 MB/s\u001b[0m eta \u001b[36m0:00:00\u001b[0m\n",
            "\u001b[?25hCollecting urllib3>=1.25.10\n",
            "  Downloading urllib3-1.26.14-py2.py3-none-any.whl (140 kB)\n",
            "\u001b[2K     \u001b[90m━━━━━━━━━━━━━━━━━━━━━━━━━━━━━━━━━━━━━━\u001b[0m \u001b[32m140.6/140.6 KB\u001b[0m \u001b[31m17.2 MB/s\u001b[0m eta \u001b[36m0:00:00\u001b[0m\n",
            "\u001b[?25hRequirement already satisfied: Werkzeug>=1.0.1 in /usr/local/lib/python3.8/dist-packages (from -r dopamine/requirements.txt (line 54)) (1.0.1)\n",
            "Requirement already satisfied: wrapt>=1.12.1 in /usr/local/lib/python3.8/dist-packages (from -r dopamine/requirements.txt (line 55)) (1.14.1)\n",
            "Requirement already satisfied: wheel<1.0,>=0.23.0 in /usr/local/lib/python3.8/dist-packages (from astunparse>=1.6.3->-r dopamine/requirements.txt (line 2)) (0.38.4)\n",
            "Collecting optax\n",
            "  Downloading optax-0.1.4-py3-none-any.whl (154 kB)\n",
            "\u001b[2K     \u001b[90m━━━━━━━━━━━━━━━━━━━━━━━━━━━━━━━━━━━━━━\u001b[0m \u001b[32m154.9/154.9 KB\u001b[0m \u001b[31m20.7 MB/s\u001b[0m eta \u001b[36m0:00:00\u001b[0m\n",
            "\u001b[?25hCollecting jax>=0.3.16\n",
            "  Downloading jax-0.4.3.tar.gz (1.2 MB)\n",
            "\u001b[2K     \u001b[90m━━━━━━━━━━━━━━━━━━━━━━━━━━━━━━━━━━━━━━━━\u001b[0m \u001b[32m1.2/1.2 MB\u001b[0m \u001b[31m74.6 MB/s\u001b[0m eta \u001b[36m0:00:00\u001b[0m\n",
            "\u001b[?25h  Preparing metadata (setup.py) ... \u001b[?25l\u001b[?25hdone\n",
            "Collecting tensorstore\n",
            "  Downloading tensorstore-0.1.31-cp38-cp38-manylinux_2_17_x86_64.manylinux2014_x86_64.whl (8.3 MB)\n",
            "\u001b[2K     \u001b[90m━━━━━━━━━━━━━━━━━━━━━━━━━━━━━━━━━━━━━━━━\u001b[0m \u001b[32m8.3/8.3 MB\u001b[0m \u001b[31m103.6 MB/s\u001b[0m eta \u001b[36m0:00:00\u001b[0m\n",
            "\u001b[?25hCollecting orbax\n",
            "  Downloading orbax-0.1.1-py3-none-any.whl (70 kB)\n",
            "\u001b[2K     \u001b[90m━━━━━━━━━━━━━━━━━━━━━━━━━━━━━━━━━━━━━━━━\u001b[0m \u001b[32m70.6/70.6 KB\u001b[0m \u001b[31m8.8 MB/s\u001b[0m eta \u001b[36m0:00:00\u001b[0m\n",
            "\u001b[?25hRequirement already satisfied: PyYAML>=5.4.1 in /usr/local/lib/python3.8/dist-packages (from flax>=0.5.3->-r dopamine/requirements.txt (line 8)) (6.0)\n",
            "Collecting rich>=11.1\n",
            "  Downloading rich-13.3.1-py3-none-any.whl (239 kB)\n",
            "\u001b[2K     \u001b[90m━━━━━━━━━━━━━━━━━━━━━━━━━━━━━━━━━━━━━━\u001b[0m \u001b[32m239.0/239.0 KB\u001b[0m \u001b[31m25.8 MB/s\u001b[0m eta \u001b[36m0:00:00\u001b[0m\n",
            "\u001b[?25hRequirement already satisfied: typing-extensions>=4.1.1 in /usr/local/lib/python3.8/dist-packages (from flax>=0.5.3->-r dopamine/requirements.txt (line 8)) (4.4.0)\n",
            "Requirement already satisfied: importlib-metadata>=4.8.0 in /usr/local/lib/python3.8/dist-packages (from gym[accept-rom-license,atari]<=0.25.2->-r dopamine/requirements.txt (line 16)) (6.0.0)\n",
            "Requirement already satisfied: gym-notices>=0.0.4 in /usr/local/lib/python3.8/dist-packages (from gym[accept-rom-license,atari]<=0.25.2->-r dopamine/requirements.txt (line 16)) (0.0.8)\n",
            "Collecting ale-py~=0.7.5\n",
            "  Downloading ale_py-0.7.5-cp38-cp38-manylinux_2_17_x86_64.manylinux2014_x86_64.whl (1.6 MB)\n",
            "\u001b[2K     \u001b[90m━━━━━━━━━━━━━━━━━━━━━━━━━━━━━━━━━━━━━━━━\u001b[0m \u001b[32m1.6/1.6 MB\u001b[0m \u001b[31m80.7 MB/s\u001b[0m eta \u001b[36m0:00:00\u001b[0m\n",
            "\u001b[?25hCollecting autorom[accept-rom-license]~=0.4.2\n",
            "  Downloading AutoROM-0.4.2-py3-none-any.whl (16 kB)\n",
            "Requirement already satisfied: packaging>=20.0 in /usr/local/lib/python3.8/dist-packages (from matplotlib>=3.3.0->-r dopamine/requirements.txt (line 24)) (23.0)\n",
            "Collecting contourpy>=1.0.1\n",
            "  Downloading contourpy-1.0.7-cp38-cp38-manylinux_2_17_x86_64.manylinux2014_x86_64.whl (300 kB)\n",
            "\u001b[2K     \u001b[90m━━━━━━━━━━━━━━━━━━━━━━━━━━━━━━━━━━━━━━\u001b[0m \u001b[32m300.0/300.0 KB\u001b[0m \u001b[31m29.6 MB/s\u001b[0m eta \u001b[36m0:00:00\u001b[0m\n",
            "\u001b[?25hCollecting fonttools>=4.22.0\n",
            "  Downloading fonttools-4.38.0-py3-none-any.whl (965 kB)\n",
            "\u001b[2K     \u001b[90m━━━━━━━━━━━━━━━━━━━━━━━━━━━━━━━━━━━━━━\u001b[0m \u001b[32m965.4/965.4 KB\u001b[0m \u001b[31m58.8 MB/s\u001b[0m eta \u001b[36m0:00:00\u001b[0m\n",
            "\u001b[?25hRequirement already satisfied: tensorboard-data-server<0.7.0,>=0.6.0 in /usr/local/lib/python3.8/dist-packages (from tensorboard->-r dopamine/requirements.txt (line 46)) (0.6.1)\n",
            "Requirement already satisfied: tensorflow-io-gcs-filesystem>=0.23.1 in /usr/local/lib/python3.8/dist-packages (from tensorflow->-r dopamine/requirements.txt (line 48)) (0.30.0)\n",
            "Requirement already satisfied: libclang>=13.0.0 in /usr/local/lib/python3.8/dist-packages (from tensorflow->-r dopamine/requirements.txt (line 48)) (15.0.6.1)\n",
            "Requirement already satisfied: keras<2.10.0,>=2.9.0rc0 in /usr/local/lib/python3.8/dist-packages (from tensorflow->-r dopamine/requirements.txt (line 48)) (2.9.0)\n",
            "Requirement already satisfied: flatbuffers<2,>=1.12 in /usr/local/lib/python3.8/dist-packages (from tensorflow->-r dopamine/requirements.txt (line 48)) (1.12)\n",
            "Requirement already satisfied: dm-tree in /usr/local/lib/python3.8/dist-packages (from tensorflow-probability>=0.13.0->-r dopamine/requirements.txt (line 50)) (0.1.8)\n",
            "Requirement already satisfied: decorator in /usr/local/lib/python3.8/dist-packages (from tensorflow-probability>=0.13.0->-r dopamine/requirements.txt (line 50)) (4.4.2)\n",
            "Requirement already satisfied: importlib-resources in /usr/local/lib/python3.8/dist-packages (from ale-py~=0.7.5->gym[accept-rom-license,atari]<=0.25.2->-r dopamine/requirements.txt (line 16)) (5.10.2)\n",
            "Requirement already satisfied: tqdm in /usr/local/lib/python3.8/dist-packages (from autorom[accept-rom-license]~=0.4.2->gym[accept-rom-license,atari]<=0.25.2->-r dopamine/requirements.txt (line 16)) (4.64.1)\n",
            "Requirement already satisfied: click in /usr/local/lib/python3.8/dist-packages (from autorom[accept-rom-license]~=0.4.2->gym[accept-rom-license,atari]<=0.25.2->-r dopamine/requirements.txt (line 16)) (7.1.2)\n",
            "Collecting AutoROM.accept-rom-license\n",
            "  Downloading AutoROM.accept-rom-license-0.5.4.tar.gz (12 kB)\n",
            "  Installing build dependencies ... \u001b[?25l\u001b[?25hdone\n",
            "  Getting requirements to build wheel ... \u001b[?25l\u001b[?25hdone\n",
            "  Preparing metadata (pyproject.toml) ... \u001b[?25l\u001b[?25hdone\n",
            "Requirement already satisfied: zipp>=0.5 in /usr/local/lib/python3.8/dist-packages (from importlib-metadata>=4.8.0->gym[accept-rom-license,atari]<=0.25.2->-r dopamine/requirements.txt (line 16)) (3.12.0)\n",
            "Collecting markdown-it-py<3.0.0,>=2.1.0\n",
            "  Downloading markdown_it_py-2.1.0-py3-none-any.whl (84 kB)\n",
            "\u001b[2K     \u001b[90m━━━━━━━━━━━━━━━━━━━━━━━━━━━━━━━━━━━━━━━━\u001b[0m \u001b[32m84.5/84.5 KB\u001b[0m \u001b[31m10.1 MB/s\u001b[0m eta \u001b[36m0:00:00\u001b[0m\n",
            "\u001b[?25hCollecting pygments<3.0.0,>=2.14.0\n",
            "  Downloading Pygments-2.14.0-py3-none-any.whl (1.1 MB)\n",
            "\u001b[2K     \u001b[90m━━━━━━━━━━━━━━━━━━━━━━━━━━━━━━━━━━━━━━━━\u001b[0m \u001b[32m1.1/1.1 MB\u001b[0m \u001b[31m74.0 MB/s\u001b[0m eta \u001b[36m0:00:00\u001b[0m\n",
            "\u001b[?25hCollecting chex>=0.1.5\n",
            "  Downloading chex-0.1.6-py3-none-any.whl (87 kB)\n",
            "\u001b[2K     \u001b[90m━━━━━━━━━━━━━━━━━━━━━━━━━━━━━━━━━━━━━━━━\u001b[0m \u001b[32m87.9/87.9 KB\u001b[0m \u001b[31m7.6 MB/s\u001b[0m eta \u001b[36m0:00:00\u001b[0m\n",
            "\u001b[?25hCollecting cached_property\n",
            "  Downloading cached_property-1.5.2-py2.py3-none-any.whl (7.6 kB)\n",
            "Requirement already satisfied: etils in /usr/local/lib/python3.8/dist-packages (from orbax->flax>=0.5.3->-r dopamine/requirements.txt (line 8)) (1.0.0)\n",
            "Requirement already satisfied: toolz>=0.9.0 in /usr/local/lib/python3.8/dist-packages (from chex>=0.1.5->optax->flax>=0.5.3->-r dopamine/requirements.txt (line 8)) (0.12.0)\n",
            "Collecting mdurl~=0.1\n",
            "  Downloading mdurl-0.1.2-py3-none-any.whl (10.0 kB)\n",
            "Collecting libtorrent\n",
            "  Using cached libtorrent-2.0.7-cp38-cp38-manylinux_2_12_x86_64.manylinux2010_x86_64.whl (8.6 MB)\n",
            "Building wheels for collected packages: future, jax, AutoROM.accept-rom-license\n",
            "  Building wheel for future (setup.py) ... \u001b[?25l\u001b[?25hdone\n",
            "  Created wheel for future: filename=future-0.18.3-py3-none-any.whl size=492036 sha256=f6c6e47cd5672e0561c37242acc6865798e7fbd6db3903e30e732092f47bd36d\n",
            "  Stored in directory: /root/.cache/pip/wheels/a0/0b/ee/e6994fadb42c1354dcccb139b0bf2795271bddfe6253ccdf11\n",
            "  Building wheel for jax (setup.py) ... \u001b[?25l\u001b[?25hdone\n",
            "  Created wheel for jax: filename=jax-0.4.3-py3-none-any.whl size=1384905 sha256=a683f649cf2436f9823a93521d393c0fe2460a220542234131d99cbd804f4d39\n",
            "  Stored in directory: /root/.cache/pip/wheels/46/38/24/69c60b74118b6de655c576685cbe9c654f868ac27597ee5c98\n",
            "  Building wheel for AutoROM.accept-rom-license (pyproject.toml) ... \u001b[?25l\u001b[?25hdone\n",
            "  Created wheel for AutoROM.accept-rom-license: filename=AutoROM.accept_rom_license-0.5.4-py3-none-any.whl size=441148 sha256=89adc2475a56980608485429b3abdefe30d15607a58e05004939b63d63b4945a\n",
            "  Stored in directory: /root/.cache/pip/wheels/64/60/90/db006a24f232de90641041430b5913a601345c9efc4cb883ea\n",
            "Successfully built future jax AutoROM.accept-rom-license\n",
            "Installing collected packages: pyglet, libtorrent, cached_property, urllib3, tf-slim, tensorstore, pygments, pygame, Pillow, mdurl, future, fonttools, contourpy, matplotlib, markdown-it-py, jax, ale-py, rich, chex, AutoROM.accept-rom-license, autorom, optax, orbax, flax\n",
            "  Attempting uninstall: urllib3\n",
            "    Found existing installation: urllib3 1.24.3\n",
            "    Uninstalling urllib3-1.24.3:\n",
            "      Successfully uninstalled urllib3-1.24.3\n",
            "  Attempting uninstall: pygments\n",
            "    Found existing installation: Pygments 2.6.1\n",
            "    Uninstalling Pygments-2.6.1:\n",
            "      Successfully uninstalled Pygments-2.6.1\n",
            "  Attempting uninstall: Pillow\n",
            "    Found existing installation: Pillow 7.1.2\n",
            "    Uninstalling Pillow-7.1.2:\n",
            "      Successfully uninstalled Pillow-7.1.2\n",
            "  Attempting uninstall: future\n",
            "    Found existing installation: future 0.16.0\n",
            "    Uninstalling future-0.16.0:\n",
            "      Successfully uninstalled future-0.16.0\n",
            "  Attempting uninstall: matplotlib\n",
            "    Found existing installation: matplotlib 3.2.2\n",
            "    Uninstalling matplotlib-3.2.2:\n",
            "      Successfully uninstalled matplotlib-3.2.2\n",
            "  Attempting uninstall: jax\n",
            "    Found existing installation: jax 0.3.25\n",
            "    Uninstalling jax-0.3.25:\n",
            "      Successfully uninstalled jax-0.3.25\n",
            "\u001b[31mERROR: pip's dependency resolver does not currently take into account all the packages that are installed. This behaviour is the source of the following dependency conflicts.\n",
            "ipython 7.9.0 requires jedi>=0.10, which is not installed.\u001b[0m\u001b[31m\n",
            "\u001b[0mSuccessfully installed AutoROM.accept-rom-license-0.5.4 Pillow-9.4.0 ale-py-0.7.5 autorom-0.4.2 cached_property-1.5.2 chex-0.1.6 contourpy-1.0.7 flax-0.6.5 fonttools-4.38.0 future-0.18.3 jax-0.4.3 libtorrent-2.0.7 markdown-it-py-2.1.0 matplotlib-3.6.3 mdurl-0.1.2 optax-0.1.4 orbax-0.1.1 pygame-2.1.2 pyglet-2.0.4 pygments-2.14.0 rich-13.3.1 tensorstore-0.1.31 tf-slim-1.1.0 urllib3-1.26.14\n"
          ]
        }
      ]
    },
    {
      "cell_type": "code",
      "source": [
        "%cd /content/dopamine"
      ],
      "metadata": {
        "colab": {
          "base_uri": "https://localhost:8080/"
        },
        "id": "eBFxHdxclgpH",
        "outputId": "00d38762-d8aa-4d59-9959-2794f57bb278"
      },
      "execution_count": 13,
      "outputs": [
        {
          "output_type": "stream",
          "name": "stdout",
          "text": [
            "/content/dopamine\n"
          ]
        }
      ]
    },
    {
      "cell_type": "code",
      "source": [
        "!pip install -e ."
      ],
      "metadata": {
        "id": "O2rtx7CRlmVr"
      },
      "execution_count": null,
      "outputs": []
    },
    {
      "cell_type": "markdown",
      "source": [
        "Original installs from conda_env.yml\n",
        "This is the only one missing. The rest seem to be installed, except for Dopamine. Get a fresh version of that else error with gin-config. "
      ],
      "metadata": {
        "id": "HWxsqPNkmr5q"
      }
    },
    {
      "cell_type": "code",
      "source": [
        "!pip install blosc #gin-config atari-py pyprind absl-py gym tqdm "
      ],
      "metadata": {
        "colab": {
          "base_uri": "https://localhost:8080/"
        },
        "id": "UW1m-sA2WGYR",
        "outputId": "62985a29-dd77-4cc4-8d41-888422d51127"
      },
      "execution_count": 15,
      "outputs": [
        {
          "output_type": "stream",
          "name": "stdout",
          "text": [
            "Looking in indexes: https://pypi.org/simple, https://us-python.pkg.dev/colab-wheels/public/simple/\n",
            "Collecting blosc\n",
            "  Downloading blosc-1.11.1-cp38-cp38-manylinux_2_17_x86_64.manylinux2014_x86_64.whl (2.5 MB)\n",
            "\u001b[2K     \u001b[90m━━━━━━━━━━━━━━━━━━━━━━━━━━━━━━━━━━━━━━━━\u001b[0m \u001b[32m2.5/2.5 MB\u001b[0m \u001b[31m37.5 MB/s\u001b[0m eta \u001b[36m0:00:00\u001b[0m\n",
            "\u001b[?25hInstalling collected packages: blosc\n",
            "Successfully installed blosc-1.11.1\n"
          ]
        }
      ]
    },
    {
      "cell_type": "markdown",
      "source": [
        "## Get Atari ROMS ... apparently we don't have this despite the mega installs!"
      ],
      "metadata": {
        "id": "7Gl2Hi2SpoyW"
      }
    },
    {
      "cell_type": "code",
      "source": [
        "import atari_py\n",
        "atari_py.get_game_path(\"Breakout\")"
      ],
      "metadata": {
        "id": "1zRhRTyJYu5o",
        "colab": {
          "base_uri": "https://localhost:8080/",
          "height": 322
        },
        "outputId": "9cb48fad-277b-4087-c3a9-4df453e36e39"
      },
      "execution_count": 16,
      "outputs": [
        {
          "output_type": "error",
          "ename": "Exception",
          "evalue": "ignored",
          "traceback": [
            "\u001b[0;31m---------------------------------------------------------------------------\u001b[0m",
            "\u001b[0;31mException\u001b[0m                                 Traceback (most recent call last)",
            "\u001b[0;32m<ipython-input-16-8de6d88d8ad0>\u001b[0m in \u001b[0;36m<module>\u001b[0;34m\u001b[0m\n\u001b[1;32m      1\u001b[0m \u001b[0;32mimport\u001b[0m \u001b[0matari_py\u001b[0m\u001b[0;34m\u001b[0m\u001b[0;34m\u001b[0m\u001b[0m\n\u001b[0;32m----> 2\u001b[0;31m \u001b[0matari_py\u001b[0m\u001b[0;34m.\u001b[0m\u001b[0mget_game_path\u001b[0m\u001b[0;34m(\u001b[0m\u001b[0;34m\"Breakout\"\u001b[0m\u001b[0;34m)\u001b[0m\u001b[0;34m\u001b[0m\u001b[0;34m\u001b[0m\u001b[0m\n\u001b[0m",
            "\u001b[0;32m/usr/local/lib/python3.8/dist-packages/atari_py/games.py\u001b[0m in \u001b[0;36mget_game_path\u001b[0;34m(game_name)\u001b[0m\n\u001b[1;32m     18\u001b[0m     \u001b[0mpath\u001b[0m \u001b[0;34m=\u001b[0m \u001b[0mos\u001b[0m\u001b[0;34m.\u001b[0m\u001b[0mpath\u001b[0m\u001b[0;34m.\u001b[0m\u001b[0mjoin\u001b[0m\u001b[0;34m(\u001b[0m\u001b[0m_games_dir\u001b[0m\u001b[0;34m,\u001b[0m \u001b[0mgame_name\u001b[0m\u001b[0;34m)\u001b[0m \u001b[0;34m+\u001b[0m \u001b[0;34m\".bin\"\u001b[0m\u001b[0;34m\u001b[0m\u001b[0;34m\u001b[0m\u001b[0m\n\u001b[1;32m     19\u001b[0m     \u001b[0;32mif\u001b[0m \u001b[0;32mnot\u001b[0m \u001b[0mos\u001b[0m\u001b[0;34m.\u001b[0m\u001b[0mpath\u001b[0m\u001b[0;34m.\u001b[0m\u001b[0mexists\u001b[0m\u001b[0;34m(\u001b[0m\u001b[0mpath\u001b[0m\u001b[0;34m)\u001b[0m\u001b[0;34m:\u001b[0m\u001b[0;34m\u001b[0m\u001b[0;34m\u001b[0m\u001b[0m\n\u001b[0;32m---> 20\u001b[0;31m         \u001b[0;32mraise\u001b[0m \u001b[0mException\u001b[0m\u001b[0;34m(\u001b[0m\u001b[0;34m'ROM is missing for %s, see https://github.com/openai/atari-py#roms for instructions'\u001b[0m \u001b[0;34m%\u001b[0m \u001b[0;34m(\u001b[0m\u001b[0mgame_name\u001b[0m\u001b[0;34m,\u001b[0m\u001b[0;34m)\u001b[0m\u001b[0;34m)\u001b[0m\u001b[0;34m\u001b[0m\u001b[0;34m\u001b[0m\u001b[0m\n\u001b[0m\u001b[1;32m     21\u001b[0m     \u001b[0;32mreturn\u001b[0m \u001b[0mpath\u001b[0m\u001b[0;34m\u001b[0m\u001b[0;34m\u001b[0m\u001b[0m\n\u001b[1;32m     22\u001b[0m \u001b[0;34m\u001b[0m\u001b[0m\n",
            "\u001b[0;31mException\u001b[0m: ROM is missing for Breakout, see https://github.com/openai/atari-py#roms for instructions"
          ]
        }
      ]
    },
    {
      "cell_type": "code",
      "source": [
        "%cd /content/"
      ],
      "metadata": {
        "colab": {
          "base_uri": "https://localhost:8080/"
        },
        "id": "6k98jkOIaAlK",
        "outputId": "0c0f6970-7dc2-4bad-8bdb-fff5342e29af"
      },
      "execution_count": 17,
      "outputs": [
        {
          "output_type": "stream",
          "name": "stdout",
          "text": [
            "/content\n"
          ]
        }
      ]
    },
    {
      "cell_type": "code",
      "source": [
        "# Get atari roms...\n",
        "import urllib.request\n",
        "urllib.request.urlretrieve('http://www.atarimania.com/roms/Roms.rar','Roms.rar')\n",
        "!pip install unrar\n",
        "!unrar x Roms.rar\n",
        "!mkdir rars\n",
        "!mv \"HC ROMS\"   rars\n",
        "!mv \"ROMS\"  rars\n",
        "!python -m atari_py.import_roms rars"
      ],
      "metadata": {
        "id": "MVjcbAdupF_J"
      },
      "execution_count": null,
      "outputs": []
    },
    {
      "cell_type": "code",
      "source": [
        "# Upd: 10 Feb 2023 - was working fine, but suddenly I need to update jaxlib! \n",
        "!pip install update jaxlib==0.4.2"
      ],
      "metadata": {
        "id": "TWjSTvxcsmoL",
        "colab": {
          "base_uri": "https://localhost:8080/"
        },
        "outputId": "5435b463-2680-4728-aa9b-de1c3e31eccb"
      },
      "execution_count": 6,
      "outputs": [
        {
          "output_type": "stream",
          "name": "stdout",
          "text": [
            "Looking in indexes: https://pypi.org/simple, https://us-python.pkg.dev/colab-wheels/public/simple/\n",
            "Collecting update\n",
            "  Downloading update-0.0.1-py2.py3-none-any.whl (2.9 kB)\n",
            "Collecting jaxlib==0.4.2\n",
            "  Downloading jaxlib-0.4.2-cp38-cp38-manylinux2014_x86_64.whl (71.9 MB)\n",
            "\u001b[2K     \u001b[90m━━━━━━━━━━━━━━━━━━━━━━━━━━━━━━━━━━━━━━━━\u001b[0m \u001b[32m71.9/71.9 MB\u001b[0m \u001b[31m21.8 MB/s\u001b[0m eta \u001b[36m0:00:00\u001b[0m\n",
            "\u001b[?25hRequirement already satisfied: numpy>=1.20 in /usr/local/lib/python3.8/dist-packages (from jaxlib==0.4.2) (1.21.6)\n",
            "Requirement already satisfied: scipy>=1.5 in /usr/local/lib/python3.8/dist-packages (from jaxlib==0.4.2) (1.7.3)\n",
            "Collecting style==1.1.0\n",
            "  Downloading style-1.1.0-py2.py3-none-any.whl (6.4 kB)\n",
            "Installing collected packages: style, update, jaxlib\n",
            "  Attempting uninstall: jaxlib\n",
            "    Found existing installation: jaxlib 0.3.25+cuda11.cudnn805\n",
            "    Uninstalling jaxlib-0.3.25+cuda11.cudnn805:\n",
            "      Successfully uninstalled jaxlib-0.3.25+cuda11.cudnn805\n",
            "Successfully installed jaxlib-0.4.2 style-1.1.0 update-0.0.1\n"
          ]
        }
      ]
    },
    {
      "cell_type": "markdown",
      "source": [
        "## Get DT and run script"
      ],
      "metadata": {
        "id": "smeYwZP6nJHR"
      }
    },
    {
      "cell_type": "code",
      "source": [
        "%cd /content/"
      ],
      "metadata": {
        "colab": {
          "base_uri": "https://localhost:8080/"
        },
        "id": "nbyY22i_pTk1",
        "outputId": "3d7ecfe9-8b70-4a0e-fff1-d683b7b9d13c"
      },
      "execution_count": 2,
      "outputs": [
        {
          "output_type": "stream",
          "name": "stdout",
          "text": [
            "/content\n"
          ]
        }
      ]
    },
    {
      "cell_type": "code",
      "source": [
        "!git clone https://github.com/kzl/decision-transformer.git"
      ],
      "metadata": {
        "colab": {
          "base_uri": "https://localhost:8080/"
        },
        "id": "x140K0g4W5vt",
        "outputId": "bb0e8506-6ffc-45cc-ab0c-4f3be5ba7a00"
      },
      "execution_count": 3,
      "outputs": [
        {
          "output_type": "stream",
          "name": "stdout",
          "text": [
            "fatal: destination path 'decision-transformer' already exists and is not an empty directory.\n"
          ]
        }
      ]
    },
    {
      "cell_type": "code",
      "source": [
        "%cd decision-transformer/atari/"
      ],
      "metadata": {
        "colab": {
          "base_uri": "https://localhost:8080/"
        },
        "id": "2aOOaooLYPgr",
        "outputId": "7cc9d596-9487-423f-ed70-64a4c8824a3b"
      },
      "execution_count": 4,
      "outputs": [
        {
          "output_type": "stream",
          "name": "stdout",
          "text": [
            "/content/decision-transformer/atari\n"
          ]
        }
      ]
    },
    {
      "cell_type": "code",
      "source": [
        "!python run_dt_atari.py --seed 123 --epochs 5 --model_type 'reward_conditioned' --num_steps 10000 --num_buffers 10 --game 'Breakout' --batch_size 64 --data_dir_prefix '/content/dqn_replay/1/replay_logs/breakout/'"
      ],
      "metadata": {
        "id": "5G27D1L2YXPW",
        "colab": {
          "base_uri": "https://localhost:8080/"
        },
        "outputId": "8c75e7c1-5683-4f20-83b0-08af76581e98"
      },
      "execution_count": 13,
      "outputs": [
        {
          "output_type": "stream",
          "name": "stdout",
          "text": [
            "loading from buffer 2 which has 0 already loaded\n",
            "WARNING:absl:Unable to find episode_end_indices. This is expected for old checkpoints.\n",
            "this buffer has 112 loaded transitions and there are now 112 transitions total divided into 10 trajectories\n",
            "loading from buffer 2 which has 112 already loaded\n",
            "WARNING:absl:Unable to find episode_end_indices. This is expected for old checkpoints.\n",
            "this buffer has 224 loaded transitions and there are now 224 transitions total divided into 20 trajectories\n",
            "loading from buffer 6 which has 0 already loaded\n",
            "WARNING:absl:Unable to find episode_end_indices. This is expected for old checkpoints.\n",
            "this buffer has 161 loaded transitions and there are now 385 transitions total divided into 30 trajectories\n",
            "loading from buffer 1 which has 0 already loaded\n",
            "WARNING:absl:Unable to find episode_end_indices. This is expected for old checkpoints.\n",
            "this buffer has 102 loaded transitions and there are now 487 transitions total divided into 40 trajectories\n",
            "loading from buffer 3 which has 0 already loaded\n",
            "WARNING:absl:Unable to find episode_end_indices. This is expected for old checkpoints.\n",
            "this buffer has 125 loaded transitions and there are now 612 transitions total divided into 50 trajectories\n",
            "loading from buffer 9 which has 0 already loaded\n",
            "this buffer has 0 loaded transitions and there are now 612 transitions total divided into 50 trajectories\n",
            "loading from buffer 6 which has 161 already loaded\n",
            "WARNING:absl:Unable to find episode_end_indices. This is expected for old checkpoints.\n",
            "this buffer has 283 loaded transitions and there are now 734 transitions total divided into 60 trajectories\n",
            "loading from buffer 1 which has 102 already loaded\n",
            "WARNING:absl:Unable to find episode_end_indices. This is expected for old checkpoints.\n",
            "this buffer has 235 loaded transitions and there are now 867 transitions total divided into 70 trajectories\n",
            "loading from buffer 0 which has 0 already loaded\n",
            "WARNING:absl:Unable to find episode_end_indices. This is expected for old checkpoints.\n",
            "this buffer has 84 loaded transitions and there are now 951 transitions total divided into 80 trajectories\n",
            "loading from buffer 1 which has 235 already loaded\n",
            "WARNING:absl:Unable to find episode_end_indices. This is expected for old checkpoints.\n",
            "this buffer has 359 loaded transitions and there are now 1075 transitions total divided into 90 trajectories\n",
            "loading from buffer 9 which has 0 already loaded\n",
            "this buffer has 0 loaded transitions and there are now 1075 transitions total divided into 90 trajectories\n",
            "loading from buffer 0 which has 84 already loaded\n",
            "WARNING:absl:Unable to find episode_end_indices. This is expected for old checkpoints.\n",
            "this buffer has 298 loaded transitions and there are now 1289 transitions total divided into 100 trajectories\n",
            "loading from buffer 0 which has 298 already loaded\n",
            "WARNING:absl:Unable to find episode_end_indices. This is expected for old checkpoints.\n",
            "this buffer has 389 loaded transitions and there are now 1380 transitions total divided into 110 trajectories\n",
            "loading from buffer 9 which has 0 already loaded\n",
            "this buffer has 0 loaded transitions and there are now 1380 transitions total divided into 110 trajectories\n",
            "loading from buffer 3 which has 125 already loaded\n",
            "WARNING:absl:Unable to find episode_end_indices. This is expected for old checkpoints.\n",
            "this buffer has 267 loaded transitions and there are now 1522 transitions total divided into 120 trajectories\n",
            "loading from buffer 4 which has 0 already loaded\n",
            "WARNING:absl:Unable to find episode_end_indices. This is expected for old checkpoints.\n",
            "this buffer has 138 loaded transitions and there are now 1660 transitions total divided into 130 trajectories\n",
            "loading from buffer 0 which has 389 already loaded\n",
            "WARNING:absl:Unable to find episode_end_indices. This is expected for old checkpoints.\n",
            "this buffer has 496 loaded transitions and there are now 1767 transitions total divided into 140 trajectories\n",
            "loading from buffer 0 which has 496 already loaded\n",
            "WARNING:absl:Unable to find episode_end_indices. This is expected for old checkpoints.\n",
            "this buffer has 627 loaded transitions and there are now 1898 transitions total divided into 150 trajectories\n",
            "loading from buffer 4 which has 138 already loaded\n",
            "WARNING:absl:Unable to find episode_end_indices. This is expected for old checkpoints.\n",
            "this buffer has 268 loaded transitions and there are now 2028 transitions total divided into 160 trajectories\n",
            "loading from buffer 1 which has 359 already loaded\n",
            "WARNING:absl:Unable to find episode_end_indices. This is expected for old checkpoints.\n",
            "this buffer has 453 loaded transitions and there are now 2122 transitions total divided into 170 trajectories\n",
            "loading from buffer 7 which has 0 already loaded\n",
            "WARNING:absl:Unable to find episode_end_indices. This is expected for old checkpoints.\n",
            "this buffer has 178 loaded transitions and there are now 2300 transitions total divided into 180 trajectories\n",
            "loading from buffer 3 which has 267 already loaded\n",
            "WARNING:absl:Unable to find episode_end_indices. This is expected for old checkpoints.\n",
            "this buffer has 406 loaded transitions and there are now 2439 transitions total divided into 190 trajectories\n",
            "loading from buffer 2 which has 224 already loaded\n",
            "WARNING:absl:Unable to find episode_end_indices. This is expected for old checkpoints.\n",
            "this buffer has 348 loaded transitions and there are now 2563 transitions total divided into 200 trajectories\n",
            "loading from buffer 4 which has 268 already loaded\n",
            "WARNING:absl:Unable to find episode_end_indices. This is expected for old checkpoints.\n",
            "this buffer has 372 loaded transitions and there are now 2667 transitions total divided into 210 trajectories\n",
            "loading from buffer 7 which has 178 already loaded\n",
            "WARNING:absl:Unable to find episode_end_indices. This is expected for old checkpoints.\n",
            "this buffer has 340 loaded transitions and there are now 2829 transitions total divided into 220 trajectories\n",
            "loading from buffer 2 which has 348 already loaded\n",
            "WARNING:absl:Unable to find episode_end_indices. This is expected for old checkpoints.\n",
            "this buffer has 495 loaded transitions and there are now 2976 transitions total divided into 230 trajectories\n",
            "loading from buffer 4 which has 372 already loaded\n",
            "WARNING:absl:Unable to find episode_end_indices. This is expected for old checkpoints.\n",
            "this buffer has 504 loaded transitions and there are now 3108 transitions total divided into 240 trajectories\n",
            "loading from buffer 8 which has 0 already loaded\n",
            "WARNING:absl:Unable to find episode_end_indices. This is expected for old checkpoints.\n",
            "this buffer has 152 loaded transitions and there are now 3260 transitions total divided into 250 trajectories\n",
            "loading from buffer 0 which has 627 already loaded\n",
            "WARNING:absl:Unable to find episode_end_indices. This is expected for old checkpoints.\n",
            "this buffer has 724 loaded transitions and there are now 3357 transitions total divided into 260 trajectories\n",
            "loading from buffer 7 which has 340 already loaded\n",
            "WARNING:absl:Unable to find episode_end_indices. This is expected for old checkpoints.\n",
            "this buffer has 503 loaded transitions and there are now 3520 transitions total divided into 270 trajectories\n",
            "loading from buffer 9 which has 0 already loaded\n",
            "this buffer has 0 loaded transitions and there are now 3520 transitions total divided into 270 trajectories\n",
            "loading from buffer 3 which has 406 already loaded\n",
            "WARNING:absl:Unable to find episode_end_indices. This is expected for old checkpoints.\n",
            "this buffer has 558 loaded transitions and there are now 3672 transitions total divided into 280 trajectories\n",
            "loading from buffer 4 which has 504 already loaded\n",
            "WARNING:absl:Unable to find episode_end_indices. This is expected for old checkpoints.\n",
            "this buffer has 631 loaded transitions and there are now 3799 transitions total divided into 290 trajectories\n",
            "loading from buffer 6 which has 283 already loaded\n",
            "WARNING:absl:Unable to find episode_end_indices. This is expected for old checkpoints.\n",
            "this buffer has 439 loaded transitions and there are now 3955 transitions total divided into 300 trajectories\n",
            "loading from buffer 1 which has 453 already loaded\n",
            "WARNING:absl:Unable to find episode_end_indices. This is expected for old checkpoints.\n",
            "this buffer has 576 loaded transitions and there are now 4078 transitions total divided into 310 trajectories\n",
            "loading from buffer 5 which has 0 already loaded\n",
            "WARNING:absl:Unable to find episode_end_indices. This is expected for old checkpoints.\n",
            "this buffer has 164 loaded transitions and there are now 4242 transitions total divided into 320 trajectories\n",
            "loading from buffer 6 which has 439 already loaded\n",
            "WARNING:absl:Unable to find episode_end_indices. This is expected for old checkpoints.\n",
            "this buffer has 619 loaded transitions and there are now 4422 transitions total divided into 330 trajectories\n",
            "loading from buffer 2 which has 495 already loaded\n",
            "WARNING:absl:Unable to find episode_end_indices. This is expected for old checkpoints.\n",
            "this buffer has 654 loaded transitions and there are now 4581 transitions total divided into 340 trajectories\n",
            "loading from buffer 1 which has 576 already loaded\n",
            "WARNING:absl:Unable to find episode_end_indices. This is expected for old checkpoints.\n",
            "this buffer has 676 loaded transitions and there are now 4681 transitions total divided into 350 trajectories\n",
            "loading from buffer 8 which has 152 already loaded\n",
            "WARNING:absl:Unable to find episode_end_indices. This is expected for old checkpoints.\n",
            "this buffer has 338 loaded transitions and there are now 4867 transitions total divided into 360 trajectories\n",
            "loading from buffer 3 which has 558 already loaded\n",
            "WARNING:absl:Unable to find episode_end_indices. This is expected for old checkpoints.\n",
            "this buffer has 690 loaded transitions and there are now 4999 transitions total divided into 370 trajectories\n",
            "loading from buffer 5 which has 164 already loaded\n",
            "WARNING:absl:Unable to find episode_end_indices. This is expected for old checkpoints.\n",
            "this buffer has 340 loaded transitions and there are now 5175 transitions total divided into 380 trajectories\n",
            "loading from buffer 0 which has 724 already loaded\n",
            "WARNING:absl:Unable to find episode_end_indices. This is expected for old checkpoints.\n",
            "this buffer has 967 loaded transitions and there are now 5418 transitions total divided into 390 trajectories\n",
            "loading from buffer 2 which has 654 already loaded\n",
            "WARNING:absl:Unable to find episode_end_indices. This is expected for old checkpoints.\n",
            "this buffer has 768 loaded transitions and there are now 5532 transitions total divided into 400 trajectories\n",
            "loading from buffer 6 which has 619 already loaded\n",
            "WARNING:absl:Unable to find episode_end_indices. This is expected for old checkpoints.\n",
            "this buffer has 836 loaded transitions and there are now 5749 transitions total divided into 410 trajectories\n",
            "loading from buffer 2 which has 768 already loaded\n",
            "WARNING:absl:Unable to find episode_end_indices. This is expected for old checkpoints.\n",
            "this buffer has 888 loaded transitions and there are now 5869 transitions total divided into 420 trajectories\n",
            "loading from buffer 4 which has 631 already loaded\n",
            "WARNING:absl:Unable to find episode_end_indices. This is expected for old checkpoints.\n",
            "this buffer has 814 loaded transitions and there are now 6052 transitions total divided into 430 trajectories\n",
            "loading from buffer 4 which has 814 already loaded\n",
            "WARNING:absl:Unable to find episode_end_indices. This is expected for old checkpoints.\n",
            "this buffer has 944 loaded transitions and there are now 6182 transitions total divided into 440 trajectories\n",
            "loading from buffer 6 which has 836 already loaded\n",
            "WARNING:absl:Unable to find episode_end_indices. This is expected for old checkpoints.\n",
            "this buffer has 1002 loaded transitions and there are now 6348 transitions total divided into 450 trajectories\n",
            "loading from buffer 3 which has 690 already loaded\n",
            "WARNING:absl:Unable to find episode_end_indices. This is expected for old checkpoints.\n",
            "this buffer has 822 loaded transitions and there are now 6480 transitions total divided into 460 trajectories\n",
            "loading from buffer 0 which has 967 already loaded\n",
            "WARNING:absl:Unable to find episode_end_indices. This is expected for old checkpoints.\n",
            "this buffer has 1067 loaded transitions and there are now 6580 transitions total divided into 470 trajectories\n",
            "loading from buffer 6 which has 1002 already loaded\n",
            "WARNING:absl:Unable to find episode_end_indices. This is expected for old checkpoints.\n",
            "this buffer has 1119 loaded transitions and there are now 6697 transitions total divided into 480 trajectories\n",
            "loading from buffer 4 which has 944 already loaded\n",
            "WARNING:absl:Unable to find episode_end_indices. This is expected for old checkpoints.\n",
            "this buffer has 1053 loaded transitions and there are now 6806 transitions total divided into 490 trajectories\n",
            "loading from buffer 7 which has 503 already loaded\n",
            "WARNING:absl:Unable to find episode_end_indices. This is expected for old checkpoints.\n",
            "this buffer has 620 loaded transitions and there are now 6923 transitions total divided into 500 trajectories\n",
            "loading from buffer 6 which has 1119 already loaded\n",
            "WARNING:absl:Unable to find episode_end_indices. This is expected for old checkpoints.\n",
            "this buffer has 1290 loaded transitions and there are now 7094 transitions total divided into 510 trajectories\n",
            "loading from buffer 7 which has 620 already loaded\n",
            "WARNING:absl:Unable to find episode_end_indices. This is expected for old checkpoints.\n",
            "this buffer has 766 loaded transitions and there are now 7240 transitions total divided into 520 trajectories\n",
            "loading from buffer 1 which has 676 already loaded\n",
            "WARNING:absl:Unable to find episode_end_indices. This is expected for old checkpoints.\n",
            "this buffer has 813 loaded transitions and there are now 7377 transitions total divided into 530 trajectories\n",
            "loading from buffer 5 which has 340 already loaded\n",
            "WARNING:absl:Unable to find episode_end_indices. This is expected for old checkpoints.\n",
            "this buffer has 474 loaded transitions and there are now 7511 transitions total divided into 540 trajectories\n",
            "loading from buffer 7 which has 766 already loaded\n",
            "WARNING:absl:Unable to find episode_end_indices. This is expected for old checkpoints.\n",
            "this buffer has 925 loaded transitions and there are now 7670 transitions total divided into 550 trajectories\n",
            "loading from buffer 9 which has 0 already loaded\n",
            "this buffer has 0 loaded transitions and there are now 7670 transitions total divided into 550 trajectories\n",
            "loading from buffer 2 which has 888 already loaded\n",
            "WARNING:absl:Unable to find episode_end_indices. This is expected for old checkpoints.\n",
            "this buffer has 1002 loaded transitions and there are now 7784 transitions total divided into 560 trajectories\n",
            "loading from buffer 4 which has 1053 already loaded\n",
            "WARNING:absl:Unable to find episode_end_indices. This is expected for old checkpoints.\n",
            "this buffer has 1181 loaded transitions and there are now 7912 transitions total divided into 570 trajectories\n",
            "loading from buffer 8 which has 338 already loaded\n",
            "WARNING:absl:Unable to find episode_end_indices. This is expected for old checkpoints.\n",
            "this buffer has 515 loaded transitions and there are now 8089 transitions total divided into 580 trajectories\n",
            "loading from buffer 1 which has 813 already loaded\n",
            "WARNING:absl:Unable to find episode_end_indices. This is expected for old checkpoints.\n",
            "this buffer has 907 loaded transitions and there are now 8183 transitions total divided into 590 trajectories\n",
            "loading from buffer 2 which has 1002 already loaded\n",
            "WARNING:absl:Unable to find episode_end_indices. This is expected for old checkpoints.\n",
            "this buffer has 1095 loaded transitions and there are now 8276 transitions total divided into 600 trajectories\n",
            "loading from buffer 1 which has 907 already loaded\n",
            "WARNING:absl:Unable to find episode_end_indices. This is expected for old checkpoints.\n",
            "this buffer has 1053 loaded transitions and there are now 8422 transitions total divided into 610 trajectories\n",
            "loading from buffer 1 which has 1053 already loaded\n",
            "WARNING:absl:Unable to find episode_end_indices. This is expected for old checkpoints.\n",
            "this buffer has 1191 loaded transitions and there are now 8560 transitions total divided into 620 trajectories\n",
            "loading from buffer 3 which has 822 already loaded\n",
            "WARNING:absl:Unable to find episode_end_indices. This is expected for old checkpoints.\n",
            "this buffer has 955 loaded transitions and there are now 8693 transitions total divided into 630 trajectories\n",
            "loading from buffer 5 which has 474 already loaded\n",
            "WARNING:absl:Unable to find episode_end_indices. This is expected for old checkpoints.\n",
            "this buffer has 591 loaded transitions and there are now 8810 transitions total divided into 640 trajectories\n",
            "loading from buffer 9 which has 0 already loaded\n",
            "this buffer has 0 loaded transitions and there are now 8810 transitions total divided into 640 trajectories\n",
            "loading from buffer 0 which has 1067 already loaded\n",
            "WARNING:absl:Unable to find episode_end_indices. This is expected for old checkpoints.\n",
            "this buffer has 1152 loaded transitions and there are now 8895 transitions total divided into 650 trajectories\n",
            "loading from buffer 8 which has 515 already loaded\n",
            "WARNING:absl:Unable to find episode_end_indices. This is expected for old checkpoints.\n",
            "this buffer has 696 loaded transitions and there are now 9076 transitions total divided into 660 trajectories\n",
            "loading from buffer 1 which has 1191 already loaded\n",
            "WARNING:absl:Unable to find episode_end_indices. This is expected for old checkpoints.\n",
            "this buffer has 1361 loaded transitions and there are now 9246 transitions total divided into 670 trajectories\n",
            "loading from buffer 6 which has 1290 already loaded\n",
            "WARNING:absl:Unable to find episode_end_indices. This is expected for old checkpoints.\n",
            "this buffer has 1458 loaded transitions and there are now 9414 transitions total divided into 680 trajectories\n",
            "loading from buffer 3 which has 955 already loaded\n",
            "WARNING:absl:Unable to find episode_end_indices. This is expected for old checkpoints.\n",
            "this buffer has 1094 loaded transitions and there are now 9553 transitions total divided into 690 trajectories\n",
            "loading from buffer 3 which has 1094 already loaded\n",
            "WARNING:absl:Unable to find episode_end_indices. This is expected for old checkpoints.\n",
            "this buffer has 1236 loaded transitions and there are now 9695 transitions total divided into 700 trajectories\n",
            "loading from buffer 5 which has 591 already loaded\n",
            "WARNING:absl:Unable to find episode_end_indices. This is expected for old checkpoints.\n",
            "this buffer has 725 loaded transitions and there are now 9829 transitions total divided into 710 trajectories\n",
            "loading from buffer 9 which has 0 already loaded\n",
            "this buffer has 0 loaded transitions and there are now 9829 transitions total divided into 710 trajectories\n",
            "loading from buffer 7 which has 925 already loaded\n",
            "WARNING:absl:Unable to find episode_end_indices. This is expected for old checkpoints.\n",
            "this buffer has 1041 loaded transitions and there are now 9945 transitions total divided into 720 trajectories\n",
            "loading from buffer 9 which has 0 already loaded\n",
            "this buffer has 0 loaded transitions and there are now 9945 transitions total divided into 720 trajectories\n",
            "loading from buffer 2 which has 1095 already loaded\n",
            "WARNING:absl:Unable to find episode_end_indices. This is expected for old checkpoints.\n",
            "this buffer has 1241 loaded transitions and there are now 10091 transitions total divided into 730 trajectories\n",
            "max rtg is 5\n",
            "max timestep is 69\n",
            "epoch 1 iter 6: train loss 1.32726. lr 5.999953e-04:   4% 7/157 [00:04<01:29,  1.67it/s]\n",
            "Traceback (most recent call last):\n",
            "  File \"run_dt_atari.py\", line 90, in <module>\n",
            "    trainer.train()\n",
            "  File \"/content/decision-transformer/atari/mingpt/trainer_atari.py\", line 147, in train\n",
            "    run_epoch('train', epoch_num=epoch)\n",
            "  File \"/content/decision-transformer/atari/mingpt/trainer_atari.py\", line 92, in run_epoch\n",
            "    for it, (x, y, r, t) in pbar:\n",
            "  File \"/usr/local/lib/python3.8/dist-packages/tqdm/std.py\", line 1195, in __iter__\n",
            "    for obj in iterable:\n",
            "  File \"/usr/local/lib/python3.8/dist-packages/torch/utils/data/dataloader.py\", line 628, in __next__\n",
            "    data = self._next_data()\n",
            "  File \"/usr/local/lib/python3.8/dist-packages/torch/utils/data/dataloader.py\", line 1313, in _next_data\n",
            "    return self._process_data(data)\n",
            "  File \"/usr/local/lib/python3.8/dist-packages/torch/utils/data/dataloader.py\", line 1359, in _process_data\n",
            "    data.reraise()\n",
            "  File \"/usr/local/lib/python3.8/dist-packages/torch/_utils.py\", line 543, in reraise\n",
            "    raise exception\n",
            "RuntimeError: Caught RuntimeError in DataLoader worker process 3.\n",
            "Original Traceback (most recent call last):\n",
            "  File \"/usr/local/lib/python3.8/dist-packages/torch/utils/data/_utils/worker.py\", line 302, in _worker_loop\n",
            "    data = fetcher.fetch(index)\n",
            "  File \"/usr/local/lib/python3.8/dist-packages/torch/utils/data/_utils/fetch.py\", line 61, in fetch\n",
            "    return self.collate_fn(data)\n",
            "  File \"/usr/local/lib/python3.8/dist-packages/torch/utils/data/_utils/collate.py\", line 265, in default_collate\n",
            "    return collate(batch, collate_fn_map=default_collate_fn_map)\n",
            "  File \"/usr/local/lib/python3.8/dist-packages/torch/utils/data/_utils/collate.py\", line 143, in collate\n",
            "    return [collate(samples, collate_fn_map=collate_fn_map) for samples in transposed]  # Backwards compatibility.\n",
            "  File \"/usr/local/lib/python3.8/dist-packages/torch/utils/data/_utils/collate.py\", line 143, in <listcomp>\n",
            "    return [collate(samples, collate_fn_map=collate_fn_map) for samples in transposed]  # Backwards compatibility.\n",
            "  File \"/usr/local/lib/python3.8/dist-packages/torch/utils/data/_utils/collate.py\", line 120, in collate\n",
            "    return collate_fn_map[elem_type](batch, collate_fn_map=collate_fn_map)\n",
            "  File \"/usr/local/lib/python3.8/dist-packages/torch/utils/data/_utils/collate.py\", line 162, in collate_tensor_fn\n",
            "    out = elem.new(storage).resize_(len(batch), *list(elem.size()))\n",
            "RuntimeError: Trying to resize storage that is not resizable\n",
            "\n"
          ]
        }
      ]
    },
    {
      "cell_type": "code",
      "source": [],
      "metadata": {
        "id": "SnfOB3_BpAAP"
      },
      "execution_count": null,
      "outputs": []
    }
  ]
}