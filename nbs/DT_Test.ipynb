{
  "nbformat": 4,
  "nbformat_minor": 0,
  "metadata": {
    "colab": {
      "provenance": [],
      "machine_shape": "hm",
      "mount_file_id": "1QYOx22EiFfPj9-s698O9SXV8P3oDRecg",
      "authorship_tag": "ABX9TyN4Ye8m/QWa5E5iEclqhwRa",
      "include_colab_link": true
    },
    "kernelspec": {
      "name": "python3",
      "display_name": "Python 3"
    },
    "language_info": {
      "name": "python"
    },
    "gpuClass": "standard",
    "accelerator": "GPU"
  },
  "cells": [
    {
      "cell_type": "markdown",
      "metadata": {
        "id": "view-in-github",
        "colab_type": "text"
      },
      "source": [
        "<a href=\"https://colab.research.google.com/github/marktrovinger/doom_project/blob/master/nbs/DT_Test.ipynb\" target=\"_parent\"><img src=\"https://colab.research.google.com/assets/colab-badge.svg\" alt=\"Open In Colab\"/></a>"
      ]
    },
    {
      "cell_type": "code",
      "execution_count": null,
      "metadata": {
        "id": "1cciUgI6TWb3"
      },
      "outputs": [],
      "source": [
        "!mkdir dqn_replay"
      ]
    },
    {
      "cell_type": "code",
      "source": [
        "!gsutil -m cp -R gs://atari-replay-datasets/dqn/Breakout dqn_replay"
      ],
      "metadata": {
        "id": "gQBQDs6rUHWR"
      },
      "execution_count": null,
      "outputs": []
    },
    {
      "cell_type": "markdown",
      "source": [
        "Should copy files, one set for each checkpoint number, like: \n",
        "\n",
        "\n",
        "```\n",
        "Copying gs://atari-replay-datasets/dqn/Breakout/1/replay_logs/$store$_action_ckpt.0.gz...\n",
        "Copying gs://atari-replay-datasets/dqn/Breakout/1/replay_logs/$store$_observation_ckpt.0.gz...\n",
        "Copying gs://atari-replay-datasets/dqn/Breakout/1/replay_logs/$store$_reward_ckpt.0.gz...\n",
        "Copying gs://atari-replay-datasets/dqn/Breakout/1/replay_logs/$store$_terminal_ckpt.0.gz...\n",
        "Copying gs://atari-replay-datasets/dqn/Breakout/1/replay_logs/add_count_ckpt.0.gz...\n",
        "Copying gs://atari-replay-datasets/dqn/Breakout/1/replay_logs/invalid_range_ckpt.0.gz...\n",
        "\n",
        "```\n",
        "\n",
        "Folder structure is as below \n",
        "\n",
        "```\n",
        "/content/dqn_replay/Pong/1/replay_logs/\n",
        "```\n",
        "\n",
        "\n",
        "\n",
        "\n",
        "\n"
      ],
      "metadata": {
        "id": "zu-dZHeKbgkb"
      }
    },
    {
      "cell_type": "markdown",
      "source": [
        "Get Dopamine - need latest version!"
      ],
      "metadata": {
        "id": "wV0tPM5wmm3S"
      }
    },
    {
      "cell_type": "code",
      "source": [
        "!git clone https://github.com/google/dopamine"
      ],
      "metadata": {
        "id": "ONZkAfdocaGO",
        "colab": {
          "base_uri": "https://localhost:8080/"
        },
        "outputId": "a7b64bed-1ba2-46fa-aea0-25eef77a2d6a"
      },
      "execution_count": null,
      "outputs": [
        {
          "output_type": "stream",
          "name": "stdout",
          "text": [
            "Cloning into 'dopamine'...\n",
            "remote: Enumerating objects: 3856, done.\u001b[K\n",
            "remote: Counting objects: 100% (167/167), done.\u001b[K\n",
            "remote: Compressing objects: 100% (81/81), done.\u001b[K\n",
            "remote: Total 3856 (delta 97), reused 130 (delta 83), pack-reused 3689\u001b[K\n",
            "Receiving objects: 100% (3856/3856), 21.03 MiB | 21.38 MiB/s, done.\n",
            "Resolving deltas: 100% (2575/2575), done.\n"
          ]
        }
      ]
    },
    {
      "cell_type": "code",
      "source": [
        "!pip install -r dopamine/requirements.txt"
      ],
      "metadata": {
        "id": "t0q_Unuuce5t",
        "colab": {
          "base_uri": "https://localhost:8080/"
        },
        "outputId": "558e698f-65da-4dc3-dfaa-a0653f1ddf88"
      },
      "execution_count": null,
      "outputs": [
        {
          "output_type": "stream",
          "name": "stdout",
          "text": [
            "Looking in indexes: https://pypi.org/simple, https://us-python.pkg.dev/colab-wheels/public/simple/\n",
            "Requirement already satisfied: absl-py>=0.9.0 in /usr/local/lib/python3.8/dist-packages (from -r dopamine/requirements.txt (line 1)) (1.3.0)\n",
            "Requirement already satisfied: astunparse>=1.6.3 in /usr/local/lib/python3.8/dist-packages (from -r dopamine/requirements.txt (line 2)) (1.6.3)\n",
            "Requirement already satisfied: cachetools>=4.1.1 in /usr/local/lib/python3.8/dist-packages (from -r dopamine/requirements.txt (line 3)) (5.2.1)\n",
            "Requirement already satisfied: certifi>=2020.6.20 in /usr/local/lib/python3.8/dist-packages (from -r dopamine/requirements.txt (line 4)) (2022.12.7)\n",
            "Requirement already satisfied: chardet>=3.0.4 in /usr/local/lib/python3.8/dist-packages (from -r dopamine/requirements.txt (line 5)) (4.0.0)\n",
            "Requirement already satisfied: cloudpickle>=1.3.0 in /usr/local/lib/python3.8/dist-packages (from -r dopamine/requirements.txt (line 6)) (2.2.0)\n",
            "Requirement already satisfied: cycler>=0.10.0 in /usr/local/lib/python3.8/dist-packages (from -r dopamine/requirements.txt (line 7)) (0.11.0)\n",
            "Collecting flax>=0.5.3\n",
            "  Downloading flax-0.6.4-py3-none-any.whl (204 kB)\n",
            "\u001b[2K     \u001b[90m━━━━━━━━━━━━━━━━━━━━━━━━━━━━━━━━━━━━━━\u001b[0m \u001b[32m204.3/204.3 KB\u001b[0m \u001b[31m10.4 MB/s\u001b[0m eta \u001b[36m0:00:00\u001b[0m\n",
            "\u001b[?25hCollecting future>=0.18.2\n",
            "  Downloading future-0.18.3.tar.gz (840 kB)\n",
            "\u001b[2K     \u001b[90m━━━━━━━━━━━━━━━━━━━━━━━━━━━━━━━━━━━━━━\u001b[0m \u001b[32m840.9/840.9 KB\u001b[0m \u001b[31m60.5 MB/s\u001b[0m eta \u001b[36m0:00:00\u001b[0m\n",
            "\u001b[?25h  Preparing metadata (setup.py) ... \u001b[?25l\u001b[?25hdone\n",
            "Requirement already satisfied: gast>=0.3.3 in /usr/local/lib/python3.8/dist-packages (from -r dopamine/requirements.txt (line 10)) (0.4.0)\n",
            "Requirement already satisfied: gin-config>=0.3.0 in /usr/local/lib/python3.8/dist-packages (from -r dopamine/requirements.txt (line 11)) (0.5.0)\n",
            "Requirement already satisfied: google-auth>=1.19.2 in /usr/local/lib/python3.8/dist-packages (from -r dopamine/requirements.txt (line 12)) (2.16.0)\n",
            "Requirement already satisfied: google-auth-oauthlib>=0.4.1 in /usr/local/lib/python3.8/dist-packages (from -r dopamine/requirements.txt (line 13)) (0.4.6)\n",
            "Requirement already satisfied: google-pasta>=0.2.0 in /usr/local/lib/python3.8/dist-packages (from -r dopamine/requirements.txt (line 14)) (0.2.0)\n",
            "Requirement already satisfied: grpcio>=1.30.0 in /usr/local/lib/python3.8/dist-packages (from -r dopamine/requirements.txt (line 15)) (1.51.1)\n",
            "Requirement already satisfied: gym[accept-rom-license,atari]<=0.25.2 in /usr/local/lib/python3.8/dist-packages (from -r dopamine/requirements.txt (line 16)) (0.25.2)\n",
            "Requirement already satisfied: h5py>=2.10.0 in /usr/local/lib/python3.8/dist-packages (from -r dopamine/requirements.txt (line 17)) (3.1.0)\n",
            "Requirement already satisfied: idna>=2.10 in /usr/local/lib/python3.8/dist-packages (from -r dopamine/requirements.txt (line 18)) (2.10)\n",
            "Requirement already satisfied: jax>=0.3.16 in /usr/local/lib/python3.8/dist-packages (from -r dopamine/requirements.txt (line 19)) (0.3.25)\n",
            "Requirement already satisfied: jaxlib>=0.3.15 in /usr/local/lib/python3.8/dist-packages (from -r dopamine/requirements.txt (line 20)) (0.3.25+cuda11.cudnn805)\n",
            "Requirement already satisfied: Keras-Preprocessing>=1.1.2 in /usr/local/lib/python3.8/dist-packages (from -r dopamine/requirements.txt (line 21)) (1.1.2)\n",
            "Requirement already satisfied: kiwisolver>=1.2.0 in /usr/local/lib/python3.8/dist-packages (from -r dopamine/requirements.txt (line 22)) (1.4.4)\n",
            "Requirement already satisfied: Markdown>=3.2.2 in /usr/local/lib/python3.8/dist-packages (from -r dopamine/requirements.txt (line 23)) (3.4.1)\n",
            "Collecting matplotlib>=3.3.0\n",
            "  Downloading matplotlib-3.6.3-cp38-cp38-manylinux_2_12_x86_64.manylinux2010_x86_64.whl (9.4 MB)\n",
            "\u001b[2K     \u001b[90m━━━━━━━━━━━━━━━━━━━━━━━━━━━━━━━━━━━━━━━━\u001b[0m \u001b[32m9.4/9.4 MB\u001b[0m \u001b[31m100.1 MB/s\u001b[0m eta \u001b[36m0:00:00\u001b[0m\n",
            "\u001b[?25hRequirement already satisfied: msgpack>=1.0.0 in /usr/local/lib/python3.8/dist-packages (from -r dopamine/requirements.txt (line 25)) (1.0.4)\n",
            "Requirement already satisfied: numpy>=1.18.5 in /usr/local/lib/python3.8/dist-packages (from -r dopamine/requirements.txt (line 26)) (1.21.6)\n",
            "Requirement already satisfied: oauthlib>=3.1.0 in /usr/local/lib/python3.8/dist-packages (from -r dopamine/requirements.txt (line 27)) (3.2.2)\n",
            "Requirement already satisfied: opencv-python>=4.3.0.36 in /usr/local/lib/python3.8/dist-packages (from -r dopamine/requirements.txt (line 28)) (4.6.0.66)\n",
            "Requirement already satisfied: opt-einsum>=3.3.0 in /usr/local/lib/python3.8/dist-packages (from -r dopamine/requirements.txt (line 29)) (3.3.0)\n",
            "Requirement already satisfied: pandas>=1.0.5 in /usr/local/lib/python3.8/dist-packages (from -r dopamine/requirements.txt (line 30)) (1.3.5)\n",
            "Collecting Pillow>=7.2.0\n",
            "  Downloading Pillow-9.4.0-cp38-cp38-manylinux_2_28_x86_64.whl (3.4 MB)\n",
            "\u001b[2K     \u001b[90m━━━━━━━━━━━━━━━━━━━━━━━━━━━━━━━━━━━━━━━━\u001b[0m \u001b[32m3.4/3.4 MB\u001b[0m \u001b[31m91.2 MB/s\u001b[0m eta \u001b[36m0:00:00\u001b[0m\n",
            "\u001b[?25hRequirement already satisfied: protobuf>=3.12.2 in /usr/local/lib/python3.8/dist-packages (from -r dopamine/requirements.txt (line 32)) (3.19.6)\n",
            "Requirement already satisfied: pyasn1>=0.4.8 in /usr/local/lib/python3.8/dist-packages (from -r dopamine/requirements.txt (line 33)) (0.4.8)\n",
            "Requirement already satisfied: pyasn1-modules>=0.2.8 in /usr/local/lib/python3.8/dist-packages (from -r dopamine/requirements.txt (line 34)) (0.2.8)\n",
            "Collecting pygame>=1.9.6\n",
            "  Downloading pygame-2.1.2-cp38-cp38-manylinux_2_17_x86_64.manylinux2014_x86_64.whl (21.8 MB)\n",
            "\u001b[2K     \u001b[90m━━━━━━━━━━━━━━━━━━━━━━━━━━━━━━━━━━━━━━━━\u001b[0m \u001b[32m21.8/21.8 MB\u001b[0m \u001b[31m40.5 MB/s\u001b[0m eta \u001b[36m0:00:00\u001b[0m\n",
            "\u001b[?25hCollecting pyglet>=1.5.0\n",
            "  Downloading pyglet-2.0.4-py3-none-any.whl (831 kB)\n",
            "\u001b[2K     \u001b[90m━━━━━━━━━━━━━━━━━━━━━━━━━━━━━━━━━━━━━━\u001b[0m \u001b[32m831.0/831.0 KB\u001b[0m \u001b[31m55.9 MB/s\u001b[0m eta \u001b[36m0:00:00\u001b[0m\n",
            "\u001b[?25hRequirement already satisfied: pyparsing>=2.4.7 in /usr/local/lib/python3.8/dist-packages (from -r dopamine/requirements.txt (line 37)) (3.0.9)\n",
            "Requirement already satisfied: python-dateutil>=2.8.1 in /usr/local/lib/python3.8/dist-packages (from -r dopamine/requirements.txt (line 38)) (2.8.2)\n",
            "Requirement already satisfied: pytz>=2020.1 in /usr/local/lib/python3.8/dist-packages (from -r dopamine/requirements.txt (line 39)) (2022.7)\n",
            "Requirement already satisfied: requests>=2.24.0 in /usr/local/lib/python3.8/dist-packages (from -r dopamine/requirements.txt (line 40)) (2.25.1)\n",
            "Requirement already satisfied: requests-oauthlib>=1.3.0 in /usr/local/lib/python3.8/dist-packages (from -r dopamine/requirements.txt (line 41)) (1.3.1)\n",
            "Requirement already satisfied: rsa>=4.6 in /usr/local/lib/python3.8/dist-packages (from -r dopamine/requirements.txt (line 42)) (4.9)\n",
            "Requirement already satisfied: scipy>=1.4.1 in /usr/local/lib/python3.8/dist-packages (from -r dopamine/requirements.txt (line 43)) (1.7.3)\n",
            "Requirement already satisfied: six>=1.15.0 in /usr/local/lib/python3.8/dist-packages (from -r dopamine/requirements.txt (line 44)) (1.15.0)\n",
            "Requirement already satisfied: setuptools>=49.2.01 in /usr/local/lib/python3.8/dist-packages (from -r dopamine/requirements.txt (line 45)) (57.4.0)\n",
            "Requirement already satisfied: tensorboard in /usr/local/lib/python3.8/dist-packages (from -r dopamine/requirements.txt (line 46)) (2.9.1)\n",
            "Requirement already satisfied: tensorboard-plugin-wit in /usr/local/lib/python3.8/dist-packages (from -r dopamine/requirements.txt (line 47)) (1.8.1)\n",
            "Requirement already satisfied: tensorflow in /usr/local/lib/python3.8/dist-packages (from -r dopamine/requirements.txt (line 48)) (2.9.2)\n",
            "Requirement already satisfied: tensorflow-estimator in /usr/local/lib/python3.8/dist-packages (from -r dopamine/requirements.txt (line 49)) (2.9.0)\n",
            "Requirement already satisfied: tensorflow-probability>=0.13.0 in /usr/local/lib/python3.8/dist-packages (from -r dopamine/requirements.txt (line 50)) (0.17.0)\n",
            "Requirement already satisfied: termcolor>=1.1.0 in /usr/local/lib/python3.8/dist-packages (from -r dopamine/requirements.txt (line 51)) (2.2.0)\n",
            "Collecting tf-slim>=1.1.0\n",
            "  Downloading tf_slim-1.1.0-py2.py3-none-any.whl (352 kB)\n",
            "\u001b[2K     \u001b[90m━━━━━━━━━━━━━━━━━━━━━━━━━━━━━━━━━━━━━━\u001b[0m \u001b[32m352.1/352.1 KB\u001b[0m \u001b[31m37.2 MB/s\u001b[0m eta \u001b[36m0:00:00\u001b[0m\n",
            "\u001b[?25hCollecting urllib3>=1.25.10\n",
            "  Downloading urllib3-1.26.14-py2.py3-none-any.whl (140 kB)\n",
            "\u001b[2K     \u001b[90m━━━━━━━━━━━━━━━━━━━━━━━━━━━━━━━━━━━━━━\u001b[0m \u001b[32m140.6/140.6 KB\u001b[0m \u001b[31m15.8 MB/s\u001b[0m eta \u001b[36m0:00:00\u001b[0m\n",
            "\u001b[?25hRequirement already satisfied: Werkzeug>=1.0.1 in /usr/local/lib/python3.8/dist-packages (from -r dopamine/requirements.txt (line 54)) (1.0.1)\n",
            "Requirement already satisfied: wrapt>=1.12.1 in /usr/local/lib/python3.8/dist-packages (from -r dopamine/requirements.txt (line 55)) (1.14.1)\n",
            "Requirement already satisfied: wheel<1.0,>=0.23.0 in /usr/local/lib/python3.8/dist-packages (from astunparse>=1.6.3->-r dopamine/requirements.txt (line 2)) (0.38.4)\n",
            "Collecting rich>=11.1\n",
            "  Downloading rich-13.3.1-py3-none-any.whl (239 kB)\n",
            "\u001b[2K     \u001b[90m━━━━━━━━━━━━━━━━━━━━━━━━━━━━━━━━━━━━━━\u001b[0m \u001b[32m239.0/239.0 KB\u001b[0m \u001b[31m27.7 MB/s\u001b[0m eta \u001b[36m0:00:00\u001b[0m\n",
            "\u001b[?25hRequirement already satisfied: PyYAML>=5.4.1 in /usr/local/lib/python3.8/dist-packages (from flax>=0.5.3->-r dopamine/requirements.txt (line 8)) (6.0)\n",
            "Requirement already satisfied: typing-extensions>=4.1.1 in /usr/local/lib/python3.8/dist-packages (from flax>=0.5.3->-r dopamine/requirements.txt (line 8)) (4.4.0)\n",
            "Collecting tensorstore\n",
            "  Downloading tensorstore-0.1.30-cp38-cp38-manylinux_2_17_x86_64.manylinux2014_x86_64.whl (8.3 MB)\n",
            "\u001b[2K     \u001b[90m━━━━━━━━━━━━━━━━━━━━━━━━━━━━━━━━━━━━━━━━\u001b[0m \u001b[32m8.3/8.3 MB\u001b[0m \u001b[31m68.9 MB/s\u001b[0m eta \u001b[36m0:00:00\u001b[0m\n",
            "\u001b[?25hCollecting optax\n",
            "  Downloading optax-0.1.4-py3-none-any.whl (154 kB)\n",
            "\u001b[2K     \u001b[90m━━━━━━━━━━━━━━━━━━━━━━━━━━━━━━━━━━━━━━\u001b[0m \u001b[32m154.9/154.9 KB\u001b[0m \u001b[31m22.0 MB/s\u001b[0m eta \u001b[36m0:00:00\u001b[0m\n",
            "\u001b[?25hCollecting orbax\n",
            "  Downloading orbax-0.1.1-py3-none-any.whl (70 kB)\n",
            "\u001b[2K     \u001b[90m━━━━━━━━━━━━━━━━━━━━━━━━━━━━━━━━━━━━━━━━\u001b[0m \u001b[32m70.6/70.6 KB\u001b[0m \u001b[31m9.1 MB/s\u001b[0m eta \u001b[36m0:00:00\u001b[0m\n",
            "\u001b[?25hRequirement already satisfied: gym-notices>=0.0.4 in /usr/local/lib/python3.8/dist-packages (from gym[accept-rom-license,atari]<=0.25.2->-r dopamine/requirements.txt (line 16)) (0.0.8)\n",
            "Requirement already satisfied: importlib-metadata>=4.8.0 in /usr/local/lib/python3.8/dist-packages (from gym[accept-rom-license,atari]<=0.25.2->-r dopamine/requirements.txt (line 16)) (6.0.0)\n",
            "Collecting autorom[accept-rom-license]~=0.4.2\n",
            "  Downloading AutoROM-0.4.2-py3-none-any.whl (16 kB)\n",
            "Collecting ale-py~=0.7.5\n",
            "  Downloading ale_py-0.7.5-cp38-cp38-manylinux_2_17_x86_64.manylinux2014_x86_64.whl (1.6 MB)\n",
            "\u001b[2K     \u001b[90m━━━━━━━━━━━━━━━━━━━━━━━━━━━━━━━━━━━━━━━━\u001b[0m \u001b[32m1.6/1.6 MB\u001b[0m \u001b[31m87.4 MB/s\u001b[0m eta \u001b[36m0:00:00\u001b[0m\n",
            "\u001b[?25hCollecting contourpy>=1.0.1\n",
            "  Downloading contourpy-1.0.7-cp38-cp38-manylinux_2_17_x86_64.manylinux2014_x86_64.whl (300 kB)\n",
            "\u001b[2K     \u001b[90m━━━━━━━━━━━━━━━━━━━━━━━━━━━━━━━━━━━━━━\u001b[0m \u001b[32m300.0/300.0 KB\u001b[0m \u001b[31m34.0 MB/s\u001b[0m eta \u001b[36m0:00:00\u001b[0m\n",
            "\u001b[?25hCollecting fonttools>=4.22.0\n",
            "  Downloading fonttools-4.38.0-py3-none-any.whl (965 kB)\n",
            "\u001b[2K     \u001b[90m━━━━━━━━━━━━━━━━━━━━━━━━━━━━━━━━━━━━━━\u001b[0m \u001b[32m965.4/965.4 KB\u001b[0m \u001b[31m63.6 MB/s\u001b[0m eta \u001b[36m0:00:00\u001b[0m\n",
            "\u001b[?25hRequirement already satisfied: packaging>=20.0 in /usr/local/lib/python3.8/dist-packages (from matplotlib>=3.3.0->-r dopamine/requirements.txt (line 24)) (21.3)\n",
            "Requirement already satisfied: tensorboard-data-server<0.7.0,>=0.6.0 in /usr/local/lib/python3.8/dist-packages (from tensorboard->-r dopamine/requirements.txt (line 46)) (0.6.1)\n",
            "Requirement already satisfied: libclang>=13.0.0 in /usr/local/lib/python3.8/dist-packages (from tensorflow->-r dopamine/requirements.txt (line 48)) (15.0.6.1)\n",
            "Requirement already satisfied: flatbuffers<2,>=1.12 in /usr/local/lib/python3.8/dist-packages (from tensorflow->-r dopamine/requirements.txt (line 48)) (1.12)\n",
            "Requirement already satisfied: tensorflow-io-gcs-filesystem>=0.23.1 in /usr/local/lib/python3.8/dist-packages (from tensorflow->-r dopamine/requirements.txt (line 48)) (0.29.0)\n",
            "Requirement already satisfied: keras<2.10.0,>=2.9.0rc0 in /usr/local/lib/python3.8/dist-packages (from tensorflow->-r dopamine/requirements.txt (line 48)) (2.9.0)\n",
            "Requirement already satisfied: decorator in /usr/local/lib/python3.8/dist-packages (from tensorflow-probability>=0.13.0->-r dopamine/requirements.txt (line 50)) (4.4.2)\n",
            "Requirement already satisfied: dm-tree in /usr/local/lib/python3.8/dist-packages (from tensorflow-probability>=0.13.0->-r dopamine/requirements.txt (line 50)) (0.1.8)\n",
            "Requirement already satisfied: importlib-resources in /usr/local/lib/python3.8/dist-packages (from ale-py~=0.7.5->gym[accept-rom-license,atari]<=0.25.2->-r dopamine/requirements.txt (line 16)) (5.10.2)\n",
            "Requirement already satisfied: click in /usr/local/lib/python3.8/dist-packages (from autorom[accept-rom-license]~=0.4.2->gym[accept-rom-license,atari]<=0.25.2->-r dopamine/requirements.txt (line 16)) (7.1.2)\n",
            "Requirement already satisfied: tqdm in /usr/local/lib/python3.8/dist-packages (from autorom[accept-rom-license]~=0.4.2->gym[accept-rom-license,atari]<=0.25.2->-r dopamine/requirements.txt (line 16)) (4.64.1)\n",
            "Collecting AutoROM.accept-rom-license\n",
            "  Downloading AutoROM.accept-rom-license-0.5.4.tar.gz (12 kB)\n",
            "  Installing build dependencies ... \u001b[?25l\u001b[?25hdone\n",
            "  Getting requirements to build wheel ... \u001b[?25l\u001b[?25hdone\n",
            "  Preparing metadata (pyproject.toml) ... \u001b[?25l\u001b[?25hdone\n",
            "Requirement already satisfied: zipp>=0.5 in /usr/local/lib/python3.8/dist-packages (from importlib-metadata>=4.8.0->gym[accept-rom-license,atari]<=0.25.2->-r dopamine/requirements.txt (line 16)) (3.11.0)\n",
            "Collecting pygments<3.0.0,>=2.14.0\n",
            "  Downloading Pygments-2.14.0-py3-none-any.whl (1.1 MB)\n",
            "\u001b[2K     \u001b[90m━━━━━━━━━━━━━━━━━━━━━━━━━━━━━━━━━━━━━━━━\u001b[0m \u001b[32m1.1/1.1 MB\u001b[0m \u001b[31m67.0 MB/s\u001b[0m eta \u001b[36m0:00:00\u001b[0m\n",
            "\u001b[?25hCollecting markdown-it-py<3.0.0,>=2.1.0\n",
            "  Downloading markdown_it_py-2.1.0-py3-none-any.whl (84 kB)\n",
            "\u001b[2K     \u001b[90m━━━━━━━━━━━━━━━━━━━━━━━━━━━━━━━━━━━━━━━━\u001b[0m \u001b[32m84.5/84.5 KB\u001b[0m \u001b[31m11.1 MB/s\u001b[0m eta \u001b[36m0:00:00\u001b[0m\n",
            "\u001b[?25hCollecting chex>=0.1.5\n",
            "  Downloading chex-0.1.5-py3-none-any.whl (85 kB)\n",
            "\u001b[2K     \u001b[90m━━━━━━━━━━━━━━━━━━━━━━━━━━━━━━━━━━━━━━━━\u001b[0m \u001b[32m85.3/85.3 KB\u001b[0m \u001b[31m12.0 MB/s\u001b[0m eta \u001b[36m0:00:00\u001b[0m\n",
            "\u001b[?25hCollecting cached_property\n",
            "  Downloading cached_property-1.5.2-py2.py3-none-any.whl (7.6 kB)\n",
            "Requirement already satisfied: etils in /usr/local/lib/python3.8/dist-packages (from orbax->flax>=0.5.3->-r dopamine/requirements.txt (line 8)) (1.0.0)\n",
            "Requirement already satisfied: toolz>=0.9.0 in /usr/local/lib/python3.8/dist-packages (from chex>=0.1.5->optax->flax>=0.5.3->-r dopamine/requirements.txt (line 8)) (0.12.0)\n",
            "Collecting mdurl~=0.1\n",
            "  Downloading mdurl-0.1.2-py3-none-any.whl (10.0 kB)\n",
            "Collecting libtorrent\n",
            "  Using cached libtorrent-2.0.7-cp38-cp38-manylinux_2_12_x86_64.manylinux2010_x86_64.whl (8.6 MB)\n",
            "Building wheels for collected packages: future, AutoROM.accept-rom-license\n",
            "  Building wheel for future (setup.py) ... \u001b[?25l\u001b[?25hdone\n",
            "  Created wheel for future: filename=future-0.18.3-py3-none-any.whl size=492036 sha256=edc6910b6cc28d44d2ee1294ee1a6b0b96b55e8f9a56db3d42045aa5a668e990\n",
            "  Stored in directory: /root/.cache/pip/wheels/a0/0b/ee/e6994fadb42c1354dcccb139b0bf2795271bddfe6253ccdf11\n",
            "  Building wheel for AutoROM.accept-rom-license (pyproject.toml) ... \u001b[?25l\u001b[?25hdone\n",
            "  Created wheel for AutoROM.accept-rom-license: filename=AutoROM.accept_rom_license-0.5.4-py3-none-any.whl size=441148 sha256=1d839641ef01f48edd9ae56e1c8751cbc00d85e387a82bd8329a2c2c2436e9a6\n",
            "  Stored in directory: /root/.cache/pip/wheels/64/60/90/db006a24f232de90641041430b5913a601345c9efc4cb883ea\n",
            "Successfully built future AutoROM.accept-rom-license\n",
            "Installing collected packages: pyglet, libtorrent, cached_property, urllib3, tf-slim, tensorstore, pygments, pygame, Pillow, mdurl, future, fonttools, contourpy, matplotlib, markdown-it-py, ale-py, rich, chex, AutoROM.accept-rom-license, autorom, optax, orbax, flax\n",
            "  Attempting uninstall: urllib3\n",
            "    Found existing installation: urllib3 1.24.3\n",
            "    Uninstalling urllib3-1.24.3:\n",
            "      Successfully uninstalled urllib3-1.24.3\n",
            "  Attempting uninstall: pygments\n",
            "    Found existing installation: Pygments 2.6.1\n",
            "    Uninstalling Pygments-2.6.1:\n",
            "      Successfully uninstalled Pygments-2.6.1\n",
            "  Attempting uninstall: Pillow\n",
            "    Found existing installation: Pillow 7.1.2\n",
            "    Uninstalling Pillow-7.1.2:\n",
            "      Successfully uninstalled Pillow-7.1.2\n",
            "  Attempting uninstall: future\n",
            "    Found existing installation: future 0.16.0\n",
            "    Uninstalling future-0.16.0:\n",
            "      Successfully uninstalled future-0.16.0\n",
            "  Attempting uninstall: matplotlib\n",
            "    Found existing installation: matplotlib 3.2.2\n",
            "    Uninstalling matplotlib-3.2.2:\n",
            "      Successfully uninstalled matplotlib-3.2.2\n",
            "\u001b[31mERROR: pip's dependency resolver does not currently take into account all the packages that are installed. This behaviour is the source of the following dependency conflicts.\n",
            "ipython 7.9.0 requires jedi>=0.10, which is not installed.\u001b[0m\u001b[31m\n",
            "\u001b[0mSuccessfully installed AutoROM.accept-rom-license-0.5.4 Pillow-9.4.0 ale-py-0.7.5 autorom-0.4.2 cached_property-1.5.2 chex-0.1.5 contourpy-1.0.7 flax-0.6.4 fonttools-4.38.0 future-0.18.3 libtorrent-2.0.7 markdown-it-py-2.1.0 matplotlib-3.6.3 mdurl-0.1.2 optax-0.1.4 orbax-0.1.1 pygame-2.1.2 pyglet-2.0.4 pygments-2.14.0 rich-13.3.1 tensorstore-0.1.30 tf-slim-1.1.0 urllib3-1.26.14\n"
          ]
        }
      ]
    },
    {
      "cell_type": "code",
      "source": [
        "%cd /content/dopamine"
      ],
      "metadata": {
        "colab": {
          "base_uri": "https://localhost:8080/"
        },
        "id": "eBFxHdxclgpH",
        "outputId": "6468e89a-ea96-47ab-cc86-db5b173eeea3"
      },
      "execution_count": null,
      "outputs": [
        {
          "output_type": "stream",
          "name": "stdout",
          "text": [
            "/content/dopamine\n"
          ]
        }
      ]
    },
    {
      "cell_type": "code",
      "source": [
        "!pip install -e ."
      ],
      "metadata": {
        "id": "O2rtx7CRlmVr",
        "colab": {
          "base_uri": "https://localhost:8080/"
        },
        "outputId": "8604d0f0-9e58-4e7b-cc15-0876d4e5552c"
      },
      "execution_count": null,
      "outputs": [
        {
          "output_type": "stream",
          "name": "stdout",
          "text": [
            "Looking in indexes: https://pypi.org/simple, https://us-python.pkg.dev/colab-wheels/public/simple/\n",
            "Obtaining file:///content/dopamine\n",
            "  Preparing metadata (setup.py) ... \u001b[?25l\u001b[?25hdone\n",
            "Requirement already satisfied: tensorflow>=2.2.0 in /usr/local/lib/python3.8/dist-packages (from dopamine-rl==4.0.6) (2.9.2)\n",
            "Requirement already satisfied: gin-config>=0.3.0 in /usr/local/lib/python3.8/dist-packages (from dopamine-rl==4.0.6) (0.5.0)\n",
            "Requirement already satisfied: absl-py>=0.9.0 in /usr/local/lib/python3.8/dist-packages (from dopamine-rl==4.0.6) (1.3.0)\n",
            "Requirement already satisfied: opencv-python>=3.4.8.29 in /usr/local/lib/python3.8/dist-packages (from dopamine-rl==4.0.6) (4.6.0.66)\n",
            "Requirement already satisfied: gym<=0.25.2 in /usr/local/lib/python3.8/dist-packages (from dopamine-rl==4.0.6) (0.25.2)\n",
            "Requirement already satisfied: flax>=0.2.0 in /usr/local/lib/python3.8/dist-packages (from dopamine-rl==4.0.6) (0.6.4)\n",
            "Requirement already satisfied: jax>=0.1.72 in /usr/local/lib/python3.8/dist-packages (from dopamine-rl==4.0.6) (0.3.25)\n",
            "Requirement already satisfied: jaxlib>=0.1.51 in /usr/local/lib/python3.8/dist-packages (from dopamine-rl==4.0.6) (0.3.25+cuda11.cudnn805)\n",
            "Requirement already satisfied: Pillow>=7.0.0 in /usr/local/lib/python3.8/dist-packages (from dopamine-rl==4.0.6) (9.4.0)\n",
            "Requirement already satisfied: numpy>=1.16.4 in /usr/local/lib/python3.8/dist-packages (from dopamine-rl==4.0.6) (1.21.6)\n",
            "Requirement already satisfied: pygame>=1.9.2 in /usr/local/lib/python3.8/dist-packages (from dopamine-rl==4.0.6) (2.1.2)\n",
            "Requirement already satisfied: pandas>=0.24.2 in /usr/local/lib/python3.8/dist-packages (from dopamine-rl==4.0.6) (1.3.5)\n",
            "Requirement already satisfied: tf_slim>=1.0 in /usr/local/lib/python3.8/dist-packages (from dopamine-rl==4.0.6) (1.1.0)\n",
            "Requirement already satisfied: tensorflow-probability>=0.13.0 in /usr/local/lib/python3.8/dist-packages (from dopamine-rl==4.0.6) (0.17.0)\n",
            "Requirement already satisfied: PyYAML>=5.4.1 in /usr/local/lib/python3.8/dist-packages (from flax>=0.2.0->dopamine-rl==4.0.6) (6.0)\n",
            "Requirement already satisfied: msgpack in /usr/local/lib/python3.8/dist-packages (from flax>=0.2.0->dopamine-rl==4.0.6) (1.0.4)\n",
            "Requirement already satisfied: rich>=11.1 in /usr/local/lib/python3.8/dist-packages (from flax>=0.2.0->dopamine-rl==4.0.6) (13.3.1)\n",
            "Requirement already satisfied: tensorstore in /usr/local/lib/python3.8/dist-packages (from flax>=0.2.0->dopamine-rl==4.0.6) (0.1.30)\n",
            "Requirement already satisfied: optax in /usr/local/lib/python3.8/dist-packages (from flax>=0.2.0->dopamine-rl==4.0.6) (0.1.4)\n",
            "Requirement already satisfied: matplotlib in /usr/local/lib/python3.8/dist-packages (from flax>=0.2.0->dopamine-rl==4.0.6) (3.6.3)\n",
            "Requirement already satisfied: orbax in /usr/local/lib/python3.8/dist-packages (from flax>=0.2.0->dopamine-rl==4.0.6) (0.1.1)\n",
            "Requirement already satisfied: typing-extensions>=4.1.1 in /usr/local/lib/python3.8/dist-packages (from flax>=0.2.0->dopamine-rl==4.0.6) (4.4.0)\n",
            "Requirement already satisfied: gym-notices>=0.0.4 in /usr/local/lib/python3.8/dist-packages (from gym<=0.25.2->dopamine-rl==4.0.6) (0.0.8)\n",
            "Requirement already satisfied: importlib-metadata>=4.8.0 in /usr/local/lib/python3.8/dist-packages (from gym<=0.25.2->dopamine-rl==4.0.6) (6.0.0)\n",
            "Requirement already satisfied: cloudpickle>=1.2.0 in /usr/local/lib/python3.8/dist-packages (from gym<=0.25.2->dopamine-rl==4.0.6) (2.2.0)\n",
            "Requirement already satisfied: scipy>=1.5 in /usr/local/lib/python3.8/dist-packages (from jax>=0.1.72->dopamine-rl==4.0.6) (1.7.3)\n",
            "Requirement already satisfied: opt-einsum in /usr/local/lib/python3.8/dist-packages (from jax>=0.1.72->dopamine-rl==4.0.6) (3.3.0)\n",
            "Requirement already satisfied: pytz>=2017.3 in /usr/local/lib/python3.8/dist-packages (from pandas>=0.24.2->dopamine-rl==4.0.6) (2022.7)\n",
            "Requirement already satisfied: python-dateutil>=2.7.3 in /usr/local/lib/python3.8/dist-packages (from pandas>=0.24.2->dopamine-rl==4.0.6) (2.8.2)\n",
            "Requirement already satisfied: flatbuffers<2,>=1.12 in /usr/local/lib/python3.8/dist-packages (from tensorflow>=2.2.0->dopamine-rl==4.0.6) (1.12)\n",
            "Requirement already satisfied: protobuf<3.20,>=3.9.2 in /usr/local/lib/python3.8/dist-packages (from tensorflow>=2.2.0->dopamine-rl==4.0.6) (3.19.6)\n",
            "Requirement already satisfied: tensorflow-estimator<2.10.0,>=2.9.0rc0 in /usr/local/lib/python3.8/dist-packages (from tensorflow>=2.2.0->dopamine-rl==4.0.6) (2.9.0)\n",
            "Requirement already satisfied: keras<2.10.0,>=2.9.0rc0 in /usr/local/lib/python3.8/dist-packages (from tensorflow>=2.2.0->dopamine-rl==4.0.6) (2.9.0)\n",
            "Requirement already satisfied: tensorflow-io-gcs-filesystem>=0.23.1 in /usr/local/lib/python3.8/dist-packages (from tensorflow>=2.2.0->dopamine-rl==4.0.6) (0.29.0)\n",
            "Requirement already satisfied: h5py>=2.9.0 in /usr/local/lib/python3.8/dist-packages (from tensorflow>=2.2.0->dopamine-rl==4.0.6) (3.1.0)\n",
            "Requirement already satisfied: setuptools in /usr/local/lib/python3.8/dist-packages (from tensorflow>=2.2.0->dopamine-rl==4.0.6) (57.4.0)\n",
            "Requirement already satisfied: tensorboard<2.10,>=2.9 in /usr/local/lib/python3.8/dist-packages (from tensorflow>=2.2.0->dopamine-rl==4.0.6) (2.9.1)\n",
            "Requirement already satisfied: libclang>=13.0.0 in /usr/local/lib/python3.8/dist-packages (from tensorflow>=2.2.0->dopamine-rl==4.0.6) (15.0.6.1)\n",
            "Requirement already satisfied: six>=1.12.0 in /usr/local/lib/python3.8/dist-packages (from tensorflow>=2.2.0->dopamine-rl==4.0.6) (1.15.0)\n",
            "Requirement already satisfied: google-pasta>=0.1.1 in /usr/local/lib/python3.8/dist-packages (from tensorflow>=2.2.0->dopamine-rl==4.0.6) (0.2.0)\n",
            "Requirement already satisfied: gast<=0.4.0,>=0.2.1 in /usr/local/lib/python3.8/dist-packages (from tensorflow>=2.2.0->dopamine-rl==4.0.6) (0.4.0)\n",
            "Requirement already satisfied: wrapt>=1.11.0 in /usr/local/lib/python3.8/dist-packages (from tensorflow>=2.2.0->dopamine-rl==4.0.6) (1.14.1)\n",
            "Requirement already satisfied: packaging in /usr/local/lib/python3.8/dist-packages (from tensorflow>=2.2.0->dopamine-rl==4.0.6) (21.3)\n",
            "Requirement already satisfied: keras-preprocessing>=1.1.1 in /usr/local/lib/python3.8/dist-packages (from tensorflow>=2.2.0->dopamine-rl==4.0.6) (1.1.2)\n",
            "Requirement already satisfied: astunparse>=1.6.0 in /usr/local/lib/python3.8/dist-packages (from tensorflow>=2.2.0->dopamine-rl==4.0.6) (1.6.3)\n",
            "Requirement already satisfied: termcolor>=1.1.0 in /usr/local/lib/python3.8/dist-packages (from tensorflow>=2.2.0->dopamine-rl==4.0.6) (2.2.0)\n",
            "Requirement already satisfied: grpcio<2.0,>=1.24.3 in /usr/local/lib/python3.8/dist-packages (from tensorflow>=2.2.0->dopamine-rl==4.0.6) (1.51.1)\n",
            "Requirement already satisfied: dm-tree in /usr/local/lib/python3.8/dist-packages (from tensorflow-probability>=0.13.0->dopamine-rl==4.0.6) (0.1.8)\n",
            "Requirement already satisfied: decorator in /usr/local/lib/python3.8/dist-packages (from tensorflow-probability>=0.13.0->dopamine-rl==4.0.6) (4.4.2)\n",
            "Requirement already satisfied: wheel<1.0,>=0.23.0 in /usr/local/lib/python3.8/dist-packages (from astunparse>=1.6.0->tensorflow>=2.2.0->dopamine-rl==4.0.6) (0.38.4)\n",
            "Requirement already satisfied: zipp>=0.5 in /usr/local/lib/python3.8/dist-packages (from importlib-metadata>=4.8.0->gym<=0.25.2->dopamine-rl==4.0.6) (3.11.0)\n",
            "Requirement already satisfied: markdown-it-py<3.0.0,>=2.1.0 in /usr/local/lib/python3.8/dist-packages (from rich>=11.1->flax>=0.2.0->dopamine-rl==4.0.6) (2.1.0)\n",
            "Requirement already satisfied: pygments<3.0.0,>=2.14.0 in /usr/local/lib/python3.8/dist-packages (from rich>=11.1->flax>=0.2.0->dopamine-rl==4.0.6) (2.14.0)\n",
            "Requirement already satisfied: werkzeug>=1.0.1 in /usr/local/lib/python3.8/dist-packages (from tensorboard<2.10,>=2.9->tensorflow>=2.2.0->dopamine-rl==4.0.6) (1.0.1)\n",
            "Requirement already satisfied: google-auth<3,>=1.6.3 in /usr/local/lib/python3.8/dist-packages (from tensorboard<2.10,>=2.9->tensorflow>=2.2.0->dopamine-rl==4.0.6) (2.16.0)\n",
            "Requirement already satisfied: requests<3,>=2.21.0 in /usr/local/lib/python3.8/dist-packages (from tensorboard<2.10,>=2.9->tensorflow>=2.2.0->dopamine-rl==4.0.6) (2.25.1)\n",
            "Requirement already satisfied: tensorboard-data-server<0.7.0,>=0.6.0 in /usr/local/lib/python3.8/dist-packages (from tensorboard<2.10,>=2.9->tensorflow>=2.2.0->dopamine-rl==4.0.6) (0.6.1)\n",
            "Requirement already satisfied: markdown>=2.6.8 in /usr/local/lib/python3.8/dist-packages (from tensorboard<2.10,>=2.9->tensorflow>=2.2.0->dopamine-rl==4.0.6) (3.4.1)\n",
            "Requirement already satisfied: google-auth-oauthlib<0.5,>=0.4.1 in /usr/local/lib/python3.8/dist-packages (from tensorboard<2.10,>=2.9->tensorflow>=2.2.0->dopamine-rl==4.0.6) (0.4.6)\n",
            "Requirement already satisfied: tensorboard-plugin-wit>=1.6.0 in /usr/local/lib/python3.8/dist-packages (from tensorboard<2.10,>=2.9->tensorflow>=2.2.0->dopamine-rl==4.0.6) (1.8.1)\n",
            "Requirement already satisfied: cycler>=0.10 in /usr/local/lib/python3.8/dist-packages (from matplotlib->flax>=0.2.0->dopamine-rl==4.0.6) (0.11.0)\n",
            "Requirement already satisfied: contourpy>=1.0.1 in /usr/local/lib/python3.8/dist-packages (from matplotlib->flax>=0.2.0->dopamine-rl==4.0.6) (1.0.7)\n",
            "Requirement already satisfied: fonttools>=4.22.0 in /usr/local/lib/python3.8/dist-packages (from matplotlib->flax>=0.2.0->dopamine-rl==4.0.6) (4.38.0)\n",
            "Requirement already satisfied: kiwisolver>=1.0.1 in /usr/local/lib/python3.8/dist-packages (from matplotlib->flax>=0.2.0->dopamine-rl==4.0.6) (1.4.4)\n",
            "Requirement already satisfied: pyparsing>=2.2.1 in /usr/local/lib/python3.8/dist-packages (from matplotlib->flax>=0.2.0->dopamine-rl==4.0.6) (3.0.9)\n",
            "Requirement already satisfied: chex>=0.1.5 in /usr/local/lib/python3.8/dist-packages (from optax->flax>=0.2.0->dopamine-rl==4.0.6) (0.1.5)\n",
            "Requirement already satisfied: etils in /usr/local/lib/python3.8/dist-packages (from orbax->flax>=0.2.0->dopamine-rl==4.0.6) (1.0.0)\n",
            "Requirement already satisfied: importlib_resources in /usr/local/lib/python3.8/dist-packages (from orbax->flax>=0.2.0->dopamine-rl==4.0.6) (5.10.2)\n",
            "Requirement already satisfied: cached_property in /usr/local/lib/python3.8/dist-packages (from orbax->flax>=0.2.0->dopamine-rl==4.0.6) (1.5.2)\n",
            "Requirement already satisfied: toolz>=0.9.0 in /usr/local/lib/python3.8/dist-packages (from chex>=0.1.5->optax->flax>=0.2.0->dopamine-rl==4.0.6) (0.12.0)\n",
            "Requirement already satisfied: cachetools<6.0,>=2.0.0 in /usr/local/lib/python3.8/dist-packages (from google-auth<3,>=1.6.3->tensorboard<2.10,>=2.9->tensorflow>=2.2.0->dopamine-rl==4.0.6) (5.2.1)\n",
            "Requirement already satisfied: pyasn1-modules>=0.2.1 in /usr/local/lib/python3.8/dist-packages (from google-auth<3,>=1.6.3->tensorboard<2.10,>=2.9->tensorflow>=2.2.0->dopamine-rl==4.0.6) (0.2.8)\n",
            "Requirement already satisfied: rsa<5,>=3.1.4 in /usr/local/lib/python3.8/dist-packages (from google-auth<3,>=1.6.3->tensorboard<2.10,>=2.9->tensorflow>=2.2.0->dopamine-rl==4.0.6) (4.9)\n",
            "Requirement already satisfied: requests-oauthlib>=0.7.0 in /usr/local/lib/python3.8/dist-packages (from google-auth-oauthlib<0.5,>=0.4.1->tensorboard<2.10,>=2.9->tensorflow>=2.2.0->dopamine-rl==4.0.6) (1.3.1)\n",
            "Requirement already satisfied: mdurl~=0.1 in /usr/local/lib/python3.8/dist-packages (from markdown-it-py<3.0.0,>=2.1.0->rich>=11.1->flax>=0.2.0->dopamine-rl==4.0.6) (0.1.2)\n",
            "Requirement already satisfied: certifi>=2017.4.17 in /usr/local/lib/python3.8/dist-packages (from requests<3,>=2.21.0->tensorboard<2.10,>=2.9->tensorflow>=2.2.0->dopamine-rl==4.0.6) (2022.12.7)\n",
            "Requirement already satisfied: urllib3<1.27,>=1.21.1 in /usr/local/lib/python3.8/dist-packages (from requests<3,>=2.21.0->tensorboard<2.10,>=2.9->tensorflow>=2.2.0->dopamine-rl==4.0.6) (1.26.14)\n",
            "Requirement already satisfied: idna<3,>=2.5 in /usr/local/lib/python3.8/dist-packages (from requests<3,>=2.21.0->tensorboard<2.10,>=2.9->tensorflow>=2.2.0->dopamine-rl==4.0.6) (2.10)\n",
            "Requirement already satisfied: chardet<5,>=3.0.2 in /usr/local/lib/python3.8/dist-packages (from requests<3,>=2.21.0->tensorboard<2.10,>=2.9->tensorflow>=2.2.0->dopamine-rl==4.0.6) (4.0.0)\n",
            "Requirement already satisfied: pyasn1<0.5.0,>=0.4.6 in /usr/local/lib/python3.8/dist-packages (from pyasn1-modules>=0.2.1->google-auth<3,>=1.6.3->tensorboard<2.10,>=2.9->tensorflow>=2.2.0->dopamine-rl==4.0.6) (0.4.8)\n",
            "Requirement already satisfied: oauthlib>=3.0.0 in /usr/local/lib/python3.8/dist-packages (from requests-oauthlib>=0.7.0->google-auth-oauthlib<0.5,>=0.4.1->tensorboard<2.10,>=2.9->tensorflow>=2.2.0->dopamine-rl==4.0.6) (3.2.2)\n",
            "Installing collected packages: dopamine-rl\n",
            "  Attempting uninstall: dopamine-rl\n",
            "    Found existing installation: dopamine-rl 1.0.5\n",
            "    Uninstalling dopamine-rl-1.0.5:\n",
            "      Successfully uninstalled dopamine-rl-1.0.5\n",
            "  Running setup.py develop for dopamine-rl\n",
            "Successfully installed dopamine-rl-4.0.6\n"
          ]
        }
      ]
    },
    {
      "cell_type": "markdown",
      "source": [
        "Original installs from conda_env.yml\n",
        "\n",
        "This is the only one missing. The rest seem to be installed, except for Dopamine. Get a fresh version of that else error with gin-config. "
      ],
      "metadata": {
        "id": "HWxsqPNkmr5q"
      }
    },
    {
      "cell_type": "code",
      "source": [
        "!pip install blosc #gin-config atari-py pyprind absl-py gym tqdm "
      ],
      "metadata": {
        "colab": {
          "base_uri": "https://localhost:8080/"
        },
        "id": "UW1m-sA2WGYR",
        "outputId": "cdbb5625-a04c-44ca-e346-fe6748d3ddbd"
      },
      "execution_count": null,
      "outputs": [
        {
          "output_type": "stream",
          "name": "stdout",
          "text": [
            "Looking in indexes: https://pypi.org/simple, https://us-python.pkg.dev/colab-wheels/public/simple/\n",
            "Collecting blosc\n",
            "  Downloading blosc-1.11.1-cp38-cp38-manylinux_2_17_x86_64.manylinux2014_x86_64.whl (2.5 MB)\n",
            "\u001b[2K     \u001b[90m━━━━━━━━━━━━━━━━━━━━━━━━━━━━━━━━━━━━━━━━\u001b[0m \u001b[32m2.5/2.5 MB\u001b[0m \u001b[31m60.8 MB/s\u001b[0m eta \u001b[36m0:00:00\u001b[0m\n",
            "\u001b[?25hInstalling collected packages: blosc\n",
            "Successfully installed blosc-1.11.1\n"
          ]
        }
      ]
    },
    {
      "cell_type": "markdown",
      "source": [
        "## Get Atari ROMS ... apparently we don't have this despite the mega installs!"
      ],
      "metadata": {
        "id": "7Gl2Hi2SpoyW"
      }
    },
    {
      "cell_type": "code",
      "source": [
        "import atari_py\n",
        "atari_py.get_game_path(\"Breakout\")"
      ],
      "metadata": {
        "id": "1zRhRTyJYu5o",
        "colab": {
          "base_uri": "https://localhost:8080/",
          "height": 322
        },
        "outputId": "1c9c86ae-d90e-4abc-a0b5-d7f72ee29b47"
      },
      "execution_count": null,
      "outputs": [
        {
          "output_type": "error",
          "ename": "Exception",
          "evalue": "ignored",
          "traceback": [
            "\u001b[0;31m---------------------------------------------------------------------------\u001b[0m",
            "\u001b[0;31mException\u001b[0m                                 Traceback (most recent call last)",
            "\u001b[0;32m<ipython-input-9-8de6d88d8ad0>\u001b[0m in \u001b[0;36m<module>\u001b[0;34m\u001b[0m\n\u001b[1;32m      1\u001b[0m \u001b[0;32mimport\u001b[0m \u001b[0matari_py\u001b[0m\u001b[0;34m\u001b[0m\u001b[0;34m\u001b[0m\u001b[0m\n\u001b[0;32m----> 2\u001b[0;31m \u001b[0matari_py\u001b[0m\u001b[0;34m.\u001b[0m\u001b[0mget_game_path\u001b[0m\u001b[0;34m(\u001b[0m\u001b[0;34m\"Breakout\"\u001b[0m\u001b[0;34m)\u001b[0m\u001b[0;34m\u001b[0m\u001b[0;34m\u001b[0m\u001b[0m\n\u001b[0m",
            "\u001b[0;32m/usr/local/lib/python3.8/dist-packages/atari_py/games.py\u001b[0m in \u001b[0;36mget_game_path\u001b[0;34m(game_name)\u001b[0m\n\u001b[1;32m     18\u001b[0m     \u001b[0mpath\u001b[0m \u001b[0;34m=\u001b[0m \u001b[0mos\u001b[0m\u001b[0;34m.\u001b[0m\u001b[0mpath\u001b[0m\u001b[0;34m.\u001b[0m\u001b[0mjoin\u001b[0m\u001b[0;34m(\u001b[0m\u001b[0m_games_dir\u001b[0m\u001b[0;34m,\u001b[0m \u001b[0mgame_name\u001b[0m\u001b[0;34m)\u001b[0m \u001b[0;34m+\u001b[0m \u001b[0;34m\".bin\"\u001b[0m\u001b[0;34m\u001b[0m\u001b[0;34m\u001b[0m\u001b[0m\n\u001b[1;32m     19\u001b[0m     \u001b[0;32mif\u001b[0m \u001b[0;32mnot\u001b[0m \u001b[0mos\u001b[0m\u001b[0;34m.\u001b[0m\u001b[0mpath\u001b[0m\u001b[0;34m.\u001b[0m\u001b[0mexists\u001b[0m\u001b[0;34m(\u001b[0m\u001b[0mpath\u001b[0m\u001b[0;34m)\u001b[0m\u001b[0;34m:\u001b[0m\u001b[0;34m\u001b[0m\u001b[0;34m\u001b[0m\u001b[0m\n\u001b[0;32m---> 20\u001b[0;31m         \u001b[0;32mraise\u001b[0m \u001b[0mException\u001b[0m\u001b[0;34m(\u001b[0m\u001b[0;34m'ROM is missing for %s, see https://github.com/openai/atari-py#roms for instructions'\u001b[0m \u001b[0;34m%\u001b[0m \u001b[0;34m(\u001b[0m\u001b[0mgame_name\u001b[0m\u001b[0;34m,\u001b[0m\u001b[0;34m)\u001b[0m\u001b[0;34m)\u001b[0m\u001b[0;34m\u001b[0m\u001b[0;34m\u001b[0m\u001b[0m\n\u001b[0m\u001b[1;32m     21\u001b[0m     \u001b[0;32mreturn\u001b[0m \u001b[0mpath\u001b[0m\u001b[0;34m\u001b[0m\u001b[0;34m\u001b[0m\u001b[0m\n\u001b[1;32m     22\u001b[0m \u001b[0;34m\u001b[0m\u001b[0m\n",
            "\u001b[0;31mException\u001b[0m: ROM is missing for Breakout, see https://github.com/openai/atari-py#roms for instructions"
          ]
        }
      ]
    },
    {
      "cell_type": "code",
      "source": [
        "%cd /content/"
      ],
      "metadata": {
        "colab": {
          "base_uri": "https://localhost:8080/"
        },
        "id": "6k98jkOIaAlK",
        "outputId": "c1887a24-334c-470a-97b2-1febde022907"
      },
      "execution_count": null,
      "outputs": [
        {
          "output_type": "stream",
          "name": "stdout",
          "text": [
            "/content\n"
          ]
        }
      ]
    },
    {
      "cell_type": "code",
      "source": [
        "# Get atari roms...\n",
        "import urllib.request\n",
        "urllib.request.urlretrieve('http://www.atarimania.com/roms/Roms.rar','Roms.rar')\n",
        "!pip install unrar\n",
        "!unrar x Roms.rar\n",
        "!mkdir rars\n",
        "!mv \"HC ROMS\"   rars\n",
        "!mv \"ROMS\"  rars\n",
        "!python -m atari_py.import_roms rars"
      ],
      "metadata": {
        "id": "MVjcbAdupF_J"
      },
      "execution_count": null,
      "outputs": []
    },
    {
      "cell_type": "markdown",
      "source": [
        "## Get DT and run script"
      ],
      "metadata": {
        "id": "smeYwZP6nJHR"
      }
    },
    {
      "cell_type": "code",
      "source": [
        "%cd /content/"
      ],
      "metadata": {
        "colab": {
          "base_uri": "https://localhost:8080/"
        },
        "id": "nbyY22i_pTk1",
        "outputId": "6b2ac4c9-ef45-4344-d69f-a8fd013e1406"
      },
      "execution_count": null,
      "outputs": [
        {
          "output_type": "stream",
          "name": "stdout",
          "text": [
            "/content\n"
          ]
        }
      ]
    },
    {
      "cell_type": "code",
      "source": [
        "!git clone https://github.com/kzl/decision-transformer.git"
      ],
      "metadata": {
        "colab": {
          "base_uri": "https://localhost:8080/"
        },
        "id": "x140K0g4W5vt",
        "outputId": "224f27a6-428a-4f35-df57-505928118ddd"
      },
      "execution_count": null,
      "outputs": [
        {
          "output_type": "stream",
          "name": "stdout",
          "text": [
            "Cloning into 'decision-transformer'...\n",
            "remote: Enumerating objects: 139, done.\u001b[K\n",
            "remote: Total 139 (delta 0), reused 0 (delta 0), pack-reused 139\u001b[K\n",
            "Receiving objects: 100% (139/139), 252.85 KiB | 9.72 MiB/s, done.\n",
            "Resolving deltas: 100% (59/59), done.\n"
          ]
        }
      ]
    },
    {
      "cell_type": "code",
      "source": [
        "%cd decision-transformer/atari/"
      ],
      "metadata": {
        "colab": {
          "base_uri": "https://localhost:8080/"
        },
        "id": "2aOOaooLYPgr",
        "outputId": "f9134682-8076-4f75-bfb4-5ffeda8d58ea"
      },
      "execution_count": null,
      "outputs": [
        {
          "output_type": "stream",
          "name": "stdout",
          "text": [
            "/content/decision-transformer/atari\n"
          ]
        }
      ]
    },
    {
      "cell_type": "code",
      "source": [
        "!python run_dt_atari.py --seed 123 --epochs 5 --model_type 'reward_conditioned' --num_steps 50000 --num_buffers 1 --game 'Breakout' --batch_size 64 --data_dir_prefix /content/dqn_replay/"
      ],
      "metadata": {
        "id": "5G27D1L2YXPW",
        "colab": {
          "base_uri": "https://localhost:8080/"
        },
        "outputId": "23b52603-6179-4ea5-adac-2fb9e13ad80a"
      },
      "execution_count": null,
      "outputs": [
        {
          "output_type": "stream",
          "name": "stdout",
          "text": [
            "loading from buffer 49 which has 0 already loaded\n",
            "WARNING:absl:Unable to find episode_end_indices. This is expected for old checkpoints.\n",
            "tcmalloc: large alloc 7056007168 bytes == 0x35dfc000 @  0x7fef6293d680 0x7fef6295e824 0x7fef6171714e 0x7fef6176f745 0x7fef6171a9c8 0x5f65f3 0x57165d 0x569d8a 0x5f60c3 0x56cc92 0x569d8a 0x5f60c3 0x56cc92 0x5f5ee6 0x56bbe1 0x5f5ee6 0x56bbe1 0x5f5ee6 0x56bbe1 0x569d8a 0x5f60c3 0x59c130 0x5f666f 0x57165d 0x5f5ee6 0x56bab6 0x569d8a 0x68e267 0x67d9b1 0x67da2f 0x67dad1\n",
            "this buffer has 13576 loaded transitions and there are now 13576 transitions total divided into 10 trajectories\n",
            "loading from buffer 49 which has 13576 already loaded\n",
            "WARNING:absl:Unable to find episode_end_indices. This is expected for old checkpoints.\n",
            "tcmalloc: large alloc 7056007168 bytes == 0x205a12000 @  0x7fef6293d680 0x7fef6295e824 0x7fef6171714e 0x7fef6176f745 0x7fef6171a9c8 0x5f65f3 0x57165d 0x569d8a 0x5f60c3 0x56cc92 0x569d8a 0x5f60c3 0x56cc92 0x5f5ee6 0x56bbe1 0x5f5ee6 0x56bbe1 0x5f5ee6 0x56bbe1 0x569d8a 0x5f60c3 0x59c130 0x5f666f 0x57165d 0x5f5ee6 0x56bab6 0x569d8a 0x68e267 0x67d9b1 0x67da2f 0x67dad1\n",
            "this buffer has 28115 loaded transitions and there are now 28115 transitions total divided into 20 trajectories\n",
            "loading from buffer 49 which has 28115 already loaded\n",
            "WARNING:absl:Unable to find episode_end_indices. This is expected for old checkpoints.\n",
            "tcmalloc: large alloc 7056007168 bytes == 0x3aab34000 @  0x7fef6293d680 0x7fef6295e824 0x7fef6171714e 0x7fef6176f745 0x7fef6171a9c8 0x5f65f3 0x57165d 0x569d8a 0x5f60c3 0x56cc92 0x569d8a 0x5f60c3 0x56cc92 0x5f5ee6 0x56bbe1 0x5f5ee6 0x56bbe1 0x5f5ee6 0x56bbe1 0x569d8a 0x5f60c3 0x59c130 0x5f666f 0x57165d 0x5f5ee6 0x56bab6 0x569d8a 0x68e267 0x67d9b1 0x67da2f 0x67dad1\n",
            "this buffer has 42531 loaded transitions and there are now 42531 transitions total divided into 30 trajectories\n",
            "loading from buffer 49 which has 42531 already loaded\n",
            "WARNING:absl:Unable to find episode_end_indices. This is expected for old checkpoints.\n",
            "tcmalloc: large alloc 7056007168 bytes == 0x205a12000 @  0x7fef6293d680 0x7fef6295e824 0x7fef6171714e 0x7fef6176f745 0x7fef6171a9c8 0x5f65f3 0x57165d 0x569d8a 0x5f60c3 0x56cc92 0x569d8a 0x5f60c3 0x56cc92 0x5f5ee6 0x56bbe1 0x5f5ee6 0x56bbe1 0x5f5ee6 0x56bbe1 0x569d8a 0x5f60c3 0x59c130 0x5f666f 0x57165d 0x5f5ee6 0x56bab6 0x569d8a 0x68e267 0x67d9b1 0x67da2f 0x67dad1\n",
            "this buffer has 56476 loaded transitions and there are now 56476 transitions total divided into 40 trajectories\n",
            "max rtg is 89\n",
            "max timestep is 2343\n",
            "epoch 1 iter 881: train loss 0.98326. lr 5.602033e-04: 100% 882/882 [02:55<00:00,  5.04it/s]\n",
            "target return: 90, eval return: 2\n",
            "epoch 2 iter 881: train loss 0.41334. lr 4.505492e-04: 100% 882/882 [02:34<00:00,  5.73it/s]\n",
            "target return: 90, eval return: 6\n",
            "epoch 3 iter 881: train loss 0.65864. lr 3.004759e-04: 100% 882/882 [02:16<00:00,  6.44it/s]\n",
            "target return: 90, eval return: 9\n",
            "epoch 4 iter 881: train loss 0.35453. lr 1.502749e-04: 100% 882/882 [02:26<00:00,  6.01it/s]\n",
            "target return: 90, eval return: 15\n",
            "epoch 5 iter 881: train loss 0.23728. lr 6.000000e-05: 100% 882/882 [02:13<00:00,  6.63it/s]\n",
            "target return: 90, eval return: 14\n"
          ]
        }
      ]
    },
    {
      "cell_type": "code",
      "source": [],
      "metadata": {
        "id": "TWjSTvxcsmoL"
      },
      "execution_count": null,
      "outputs": []
    }
  ]
}